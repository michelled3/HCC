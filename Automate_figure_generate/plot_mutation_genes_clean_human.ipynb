{
 "cells": [
  {
   "cell_type": "code",
   "execution_count": 1,
   "metadata": {},
   "outputs": [
    {
     "name": "stdout",
     "output_type": "stream",
     "text": [
      "/cellar/users/mdow/Projects/HCC/Automate_figure_generate\r\n"
     ]
    }
   ],
   "source": [
    "! pwd"
   ]
  },
  {
   "cell_type": "code",
   "execution_count": 130,
   "metadata": {},
   "outputs": [
    {
     "name": "stdout",
     "output_type": "stream",
     "text": [
      "(561, 7)\n",
      "y    559\n",
      "n      2\n",
      "Name: Cancer_census, dtype: int64\n"
     ]
    }
   ],
   "source": [
    "import io\n",
    "from IPython.nbformat import current\n",
    "def execute_notebook(nbfile):\n",
    "    with io.open(nbfile) as f:\n",
    "        nb = current.read(f, 'json')\n",
    "    ip = get_ipython()\n",
    "    for cell in nb.worksheets[0].cells:\n",
    "        if cell.cell_type != 'code':\n",
    "            continue\n",
    "        ip.run_cell(cell.input)\n",
    "execute_notebook(\"/cellar/users/mdow/Projects/HCC/Automate_figure_generate/imports.ipynb\")"
   ]
  },
  {
   "cell_type": "markdown",
   "metadata": {},
   "source": [
    "### Load data"
   ]
  },
  {
   "cell_type": "code",
   "execution_count": 18,
   "metadata": {},
   "outputs": [
    {
     "name": "stdout",
     "output_type": "stream",
     "text": [
      "(82431, 40) (842447, 20)\n",
      "(14104, 5)\n"
     ]
    }
   ],
   "source": [
    "indir = '/cellar/users/mdow/Projects/HCC/DNA_analysis/Mouse_DNA/'\n",
    "#mouse = pd.read_pickle(indir + 'mouse_mut_final.pkl')\n",
    "mouse_fname = '/cellar/users/mdow/Projects/HCC/DNA_analysis/Mouse_DNA/annotated_final_filtered_01162018.csv'\n",
    "mouse = pd.read_csv(mouse_fname,index_col=0)\n",
    "mouse['Species'] = 'Mouse'\n",
    "human = pd.read_pickle(indir + 'human_mut_final.pkl')\n",
    "print mouse.shape, human.shape\n",
    "\n",
    "#unstackDf = pd.read_pickle('/cellar/users/mdow/Projects/HCC/DNA_analysis/Mouse_DNA/mutation_score_table_combo.pkl')\n",
    "#mouse_mutScore = unstackDf[~unstackDf.index.str.contains('DO')]\n",
    "#print unstackDf.shape, mouse_mutScore.shape\n",
    "mouse_mutScore = pd.read_pickle('mouse_mutation_score.pkl')\n",
    "\n",
    "#pValDf = pd.read_pickle('/cellar/users/mdow/Projects/HCC/DNA_analysis/Mouse_DNA/gene_rank_pVal.pkl')\n",
    "pValDf = pd.read_pickle('gene_rank_pVal_filtered.pkl')\n",
    "print pValDf.shape"
   ]
  },
  {
   "cell_type": "code",
   "execution_count": 19,
   "metadata": {},
   "outputs": [],
   "source": [
    "#human_mutScore = pd.read_pickle('human_mutation_score.pkl')\n",
    "human_mutScore = pd.read_pickle('human_tcga_icgc_mutation_score.pkl')"
   ]
  },
  {
   "cell_type": "code",
   "execution_count": 63,
   "metadata": {},
   "outputs": [],
   "source": [
    "human = pd.read_pickle('human_tcga_icgc_mutations.pkl')"
   ]
  },
  {
   "cell_type": "code",
   "execution_count": 64,
   "metadata": {},
   "outputs": [],
   "source": [
    "human['Species'] = 'Human'\n"
   ]
  },
  {
   "cell_type": "code",
   "execution_count": 66,
   "metadata": {},
   "outputs": [
    {
     "data": {
      "text/html": [
       "<div>\n",
       "<style scoped>\n",
       "    .dataframe tbody tr th:only-of-type {\n",
       "        vertical-align: middle;\n",
       "    }\n",
       "\n",
       "    .dataframe tbody tr th {\n",
       "        vertical-align: top;\n",
       "    }\n",
       "\n",
       "    .dataframe thead th {\n",
       "        text-align: right;\n",
       "    }\n",
       "</style>\n",
       "<table border=\"1\" class=\"dataframe\">\n",
       "  <thead>\n",
       "    <tr style=\"text-align: right;\">\n",
       "      <th></th>\n",
       "      <th>MODEL</th>\n",
       "      <th>SAMPLE</th>\n",
       "      <th>SYMBOL</th>\n",
       "      <th>Consequence</th>\n",
       "      <th>Score</th>\n",
       "      <th>Species</th>\n",
       "    </tr>\n",
       "  </thead>\n",
       "  <tbody>\n",
       "    <tr>\n",
       "      <th>0</th>\n",
       "      <td>LICA-CN</td>\n",
       "      <td>DO224538</td>\n",
       "      <td>SPOCD1</td>\n",
       "      <td>synonymous_variant</td>\n",
       "      <td>1</td>\n",
       "      <td>Human</td>\n",
       "    </tr>\n",
       "    <tr>\n",
       "      <th>1</th>\n",
       "      <td>LICA-CN</td>\n",
       "      <td>DO224538</td>\n",
       "      <td>LMNA</td>\n",
       "      <td>missense_variant</td>\n",
       "      <td>4</td>\n",
       "      <td>Human</td>\n",
       "    </tr>\n",
       "    <tr>\n",
       "      <th>2</th>\n",
       "      <td>LICA-CN</td>\n",
       "      <td>DO224538</td>\n",
       "      <td>KCND3</td>\n",
       "      <td>missense_variant</td>\n",
       "      <td>4</td>\n",
       "      <td>Human</td>\n",
       "    </tr>\n",
       "    <tr>\n",
       "      <th>3</th>\n",
       "      <td>LICA-CN</td>\n",
       "      <td>DO224538</td>\n",
       "      <td>PTCHD2</td>\n",
       "      <td>synonymous_variant</td>\n",
       "      <td>1</td>\n",
       "      <td>Human</td>\n",
       "    </tr>\n",
       "    <tr>\n",
       "      <th>4</th>\n",
       "      <td>LICA-CN</td>\n",
       "      <td>DO224538</td>\n",
       "      <td>OR2T3</td>\n",
       "      <td>missense_variant</td>\n",
       "      <td>4</td>\n",
       "      <td>Human</td>\n",
       "    </tr>\n",
       "  </tbody>\n",
       "</table>\n",
       "</div>"
      ],
      "text/plain": [
       "     MODEL    SAMPLE  SYMBOL         Consequence  Score Species\n",
       "0  LICA-CN  DO224538  SPOCD1  synonymous_variant      1   Human\n",
       "1  LICA-CN  DO224538    LMNA    missense_variant      4   Human\n",
       "2  LICA-CN  DO224538   KCND3    missense_variant      4   Human\n",
       "3  LICA-CN  DO224538  PTCHD2  synonymous_variant      1   Human\n",
       "4  LICA-CN  DO224538   OR2T3    missense_variant      4   Human"
      ]
     },
     "execution_count": 66,
     "metadata": {},
     "output_type": "execute_result"
    }
   ],
   "source": [
    "human.head()"
   ]
  },
  {
   "cell_type": "markdown",
   "metadata": {},
   "source": [
    "### Processing"
   ]
  },
  {
   "cell_type": "code",
   "execution_count": 71,
   "metadata": {},
   "outputs": [],
   "source": [
    "subCols = ['MODEL','SAMPLE','SYMBOL','Consequence','Species']\n",
    "\n",
    "combo = pd.concat([mouse[subCols],human[subCols]])\n",
    "\n",
    "#combo[combo.Species == 'Human'].groupby('SYMBOL').SAMPLE.nunique()\n",
    "\n",
    "nonSyn_ls = missense + nonsense + splice + frameshift + inframeIndel\n",
    "combo['nonSyn'] = combo.Consequence.isin(nonSyn_ls)\n",
    "\n",
    "'''\n",
    "Count gene alteration\n",
    "'''\n",
    "mask_h = combo.Species == 'Human'\n",
    "mask_m = combo.Species == 'Mouse'\n",
    "m1= combo.nonSyn == True\n",
    "\n",
    "geneCnt_h = combo[(mask_h&m1)].groupby(['SYMBOL']).SAMPLE.nunique().reset_index(name='Count')\n",
    "geneCnt_m = combo[(mask_m&m1)].groupby(['SYMBOL']).SAMPLE.nunique().reset_index(name='Count')\n",
    "\n",
    "numH = combo[(mask_h&m1)].SAMPLE.nunique()\n",
    "numM = combo[(mask_m&m1)].SAMPLE.nunique()\n",
    "geneCnt_m ['Pct'] =geneCnt_m.Count/float(numM)\n",
    "geneCnt_h ['Pct'] =geneCnt_h.Count/float(numH)\n",
    "\n",
    "geneCnt_h.head()\n",
    "\n",
    "'''\n",
    "Count total mutations human\n",
    "'''\n",
    "# For stack plot - need the total (green) and the non-syn (blue)\n",
    "mutCnt_h = combo[(mask_h&m1)].groupby(['SAMPLE']).nonSyn.value_counts().reset_index(name='nonSyn_Count')\n",
    "\n",
    "mutCnt_total_h= human[human.Consequence.isin(syn+nonSyn_ls)].groupby('SAMPLE').size().reset_index(name='Total')\n",
    "\n",
    "mutCnt_all_h = pd.merge(mutCnt_h,mutCnt_total_h)"
   ]
  },
  {
   "cell_type": "code",
   "execution_count": null,
   "metadata": {},
   "outputs": [],
   "source": []
  },
  {
   "cell_type": "code",
   "execution_count": null,
   "metadata": {},
   "outputs": [],
   "source": []
  },
  {
   "cell_type": "code",
   "execution_count": null,
   "metadata": {},
   "outputs": [],
   "source": []
  },
  {
   "cell_type": "markdown",
   "metadata": {},
   "source": [
    "### Set myGenes !!!"
   ]
  },
  {
   "cell_type": "code",
   "execution_count": 72,
   "metadata": {},
   "outputs": [],
   "source": [
    "tcga_genes = pd.read_csv('tcga_hcc_genes.txt',header=None)\n",
    "icgc_genes = pd.read_csv('icgc_hcc_genes.txt',header=None)\n",
    "tcga_genes.columns = ['Gene']\n",
    "icgc_genes.columns = ['Gene']\n",
    "\n",
    "hcc_genes = tcga_genes.Gene.tolist() + icgc_genes.Gene.tolist()"
   ]
  },
  {
   "cell_type": "code",
   "execution_count": 74,
   "metadata": {},
   "outputs": [
    {
     "data": {
      "text/plain": [
       "LINC-JP    206815\n",
       "LICA-FR    132484\n",
       "TCGA        53543\n",
       "LIHC-US     25902\n",
       "LICA-CN     15966\n",
       "Name: MODEL, dtype: int64"
      ]
     },
     "execution_count": 74,
     "metadata": {},
     "output_type": "execute_result"
    }
   ],
   "source": [
    "human.MODEL.value_counts()"
   ]
  },
  {
   "cell_type": "markdown",
   "metadata": {
    "collapsed": true
   },
   "source": [
    "## Replace LIHC-US with TCGA"
   ]
  },
  {
   "cell_type": "code",
   "execution_count": 75,
   "metadata": {},
   "outputs": [],
   "source": [
    "human_filt = human[human.MODEL != 'LIHC-US']"
   ]
  },
  {
   "cell_type": "code",
   "execution_count": 81,
   "metadata": {},
   "outputs": [
    {
     "data": {
      "text/plain": [
       "MODEL\n",
       "LICA-CN    163\n",
       "LICA-FR    240\n",
       "LINC-JP    244\n",
       "TCGA       364\n",
       "Name: SAMPLE, dtype: int64"
      ]
     },
     "execution_count": 81,
     "metadata": {},
     "output_type": "execute_result"
    }
   ],
   "source": [
    "human_filt.groupby(['MODEL']).SAMPLE.nunique()"
   ]
  },
  {
   "cell_type": "code",
   "execution_count": 83,
   "metadata": {},
   "outputs": [
    {
     "data": {
      "text/plain": [
       "MODEL\n",
       "LICA-CN     15966\n",
       "LICA-FR    132484\n",
       "LINC-JP    206815\n",
       "TCGA        53543\n",
       "dtype: int64"
      ]
     },
     "execution_count": 83,
     "metadata": {},
     "output_type": "execute_result"
    }
   ],
   "source": [
    "human_filt.groupby(['MODEL']).size()"
   ]
  },
  {
   "cell_type": "code",
   "execution_count": 84,
   "metadata": {},
   "outputs": [],
   "source": [
    "human_mutScore_filt = human_mutScore.loc[human_filt.SAMPLE.unique()]"
   ]
  },
  {
   "cell_type": "code",
   "execution_count": 85,
   "metadata": {},
   "outputs": [
    {
     "data": {
      "text/plain": [
       "((1011, 37091), (1199, 37091))"
      ]
     },
     "execution_count": 85,
     "metadata": {},
     "output_type": "execute_result"
    }
   ],
   "source": [
    "human_mutScore_filt.shape, human_mutScore.shape"
   ]
  },
  {
   "cell_type": "code",
   "execution_count": 102,
   "metadata": {},
   "outputs": [
    {
     "name": "stderr",
     "output_type": "stream",
     "text": [
      "/cellar/users/mdow/anaconda2/lib/python2.7/site-packages/ipykernel/__main__.py:1: SettingWithCopyWarning: \n",
      "A value is trying to be set on a copy of a slice from a DataFrame\n",
      "\n",
      "See the caveats in the documentation: http://pandas.pydata.org/pandas-docs/stable/indexing.html#indexing-view-versus-copy\n",
      "  if __name__ == '__main__':\n",
      "/cellar/users/mdow/anaconda2/lib/python2.7/site-packages/pandas/core/generic.py:5984: SettingWithCopyWarning: \n",
      "A value is trying to be set on a copy of a slice from a DataFrame\n",
      "\n",
      "See the caveats in the documentation: http://pandas.pydata.org/pandas-docs/stable/indexing.html#indexing-view-versus-copy\n",
      "  self._update_inplace(new_data)\n",
      "/cellar/users/mdow/anaconda2/lib/python2.7/site-packages/IPython/core/interactiveshell.py:2881: SettingWithCopyWarning: \n",
      "A value is trying to be set on a copy of a slice from a DataFrame\n",
      "\n",
      "See the caveats in the documentation: http://pandas.pydata.org/pandas-docs/stable/indexing.html#indexing-view-versus-copy\n",
      "  exec(code_obj, self.user_global_ns, self.user_ns)\n"
     ]
    }
   ],
   "source": [
    "human_filt.MODEL[human_filt.MODEL=='TCGA'] = 'LIHC-US'"
   ]
  },
  {
   "cell_type": "code",
   "execution_count": null,
   "metadata": {},
   "outputs": [],
   "source": []
  },
  {
   "cell_type": "code",
   "execution_count": null,
   "metadata": {},
   "outputs": [],
   "source": []
  },
  {
   "cell_type": "code",
   "execution_count": null,
   "metadata": {},
   "outputs": [],
   "source": []
  },
  {
   "cell_type": "markdown",
   "metadata": {},
   "source": [
    "## Try with subset of genes and subset of patients with mutations"
   ]
  },
  {
   "cell_type": "code",
   "execution_count": 103,
   "metadata": {},
   "outputs": [],
   "source": [
    "humanToProj_dict = human_filt.set_index(['SAMPLE'])['MODEL'].to_dict()"
   ]
  },
  {
   "cell_type": "code",
   "execution_count": 104,
   "metadata": {},
   "outputs": [
    {
     "name": "stdout",
     "output_type": "stream",
     "text": [
      "Sub count tables in human and mouse: (10, 3) (10, 3)\n",
      "Sub main table: (1011, 10)\n",
      "(222, 10)\n",
      "['TP53', 'CTNNB1', 'ALB', 'APOB', 'ARID1A', 'LRP1B', 'AXIN1', 'ARID2', 'KMT2D', 'TSC2']\n",
      "sort comut\n",
      "     Model                                             Sample\n",
      "0  LICA-CN  [DO224866, DO224912, DO224800, DO224552, DO224...\n",
      "1  LICA-FR  [DO50902, DO50771, DO44692, DO50919, DO50928, ...\n",
      "2  LIHC-US  [A5SJ, AAV4, AACB, A7MD, A4ZQ, A25Z, A7MC, A7D...\n",
      "3  LINC-JP  [DO23366, DO23158, DO23270, DO23308, DO23296, ...\n",
      "LICA-CN\n",
      "25\n",
      "LICA-FR\n",
      "83\n",
      "LINC-JP\n",
      "155\n",
      "LIHC-US\n",
      "222\n"
     ]
    }
   ],
   "source": [
    "sub_genes = ['ALB', 'APOB', 'ARID1A', 'ARID2', 'AXIN1', 'CTNNB1', 'KMT2D', 'LRP1B', 'TP53', 'TSC2']\n",
    "\n",
    "geneCnt_h_sub, geneCnt_m_sub, human_sub = subset_dfs_human(sub_genes, geneCnt_h, geneCnt_m, human_mutScore_filt)\n",
    "\n",
    "human_sum = human_sub.sum(axis=1) > 5\n",
    "human_noZ = human_sub.loc[human_sum,:]\n",
    "print human_noZ.shape\n",
    "\n",
    "geneCnt_h_srt, geneCnt_m_srt, human_sub_srt = sort_dfs_human(geneCnt_h_sub, geneCnt_m_sub,human_noZ,'human')\n",
    "\n",
    "#!! take the ones that are non-zero \n",
    "\n",
    "mySorted = sort_comut_human(human_sub_srt,geneCnt_h_srt,humanToProj_dict)"
   ]
  },
  {
   "cell_type": "code",
   "execution_count": 105,
   "metadata": {},
   "outputs": [
    {
     "data": {
      "image/png": "[encoded data removed]",
      "text/plain": [
       "<matplotlib.figure.Figure at 0x7fcc88313b90>"
      ]
     },
     "metadata": {},
     "output_type": "display_data"
    }
   ],
   "source": [
    "colors = sns.color_palette(\"Set2\", 4)\n",
    "sns.palplot(colors)"
   ]
  },
  {
   "cell_type": "code",
   "execution_count": 118,
   "metadata": {},
   "outputs": [
    {
     "data": {
      "text/plain": [
       "(58, 72, 67)"
      ]
     },
     "execution_count": 118,
     "metadata": {},
     "output_type": "execute_result"
    }
   ],
   "source": [
    "83-25, 155-83, 222-155"
   ]
  },
  {
   "cell_type": "code",
   "execution_count": null,
   "metadata": {},
   "outputs": [],
   "source": [
    "#LICA-CN 25\n",
    "#LICA-FR 58\n",
    "#LINC-JP 72\n",
    "#LIHC-US 67"
   ]
  },
  {
   "cell_type": "code",
   "execution_count": 145,
   "metadata": {},
   "outputs": [
    {
     "name": "stdout",
     "output_type": "stream",
     "text": [
      "(222, 10) 222\n"
     ]
    },
    {
     "data": {
      "image/png": "[encoded data removed]",
      "text/plain": [
       "<matplotlib.figure.Figure at 0x7fcc87f1b1d0>"
      ]
     },
     "metadata": {},
     "output_type": "display_data"
    }
   ],
   "source": [
    "subSams = mySorted.index\n",
    "print mySorted.shape, len(subSams)\n",
    "sub_mutCnt_h = mutCnt_all_h[mutCnt_all_h.SAMPLE.isin(subSams)]\n",
    "\n",
    "sub_mutCnt_h.index = sub_mutCnt_h.SAMPLE\n",
    "sub_mutCnt_h_srt = sub_mutCnt_h.loc[mySorted.index.tolist()]\n",
    "\n",
    "plot_final_small_human(mySorted, sub_mutCnt_h, geneCnt_h_srt, geneCnt_m_srt, humanToProj_dict,'human_all_hcc_cohorts.pdf')"
   ]
  },
  {
   "cell_type": "code",
   "execution_count": 132,
   "metadata": {},
   "outputs": [],
   "source": [
    "\n",
    "'''\n",
    "sort samples and mutations like coMut waterfall\n",
    "'''\n",
    "def sort_comut_human_mixed(human_sub_srt,geneCnt_h_srt,myDict):\n",
    "    print 'sort comut'\n",
    "    #1. change to binary\n",
    "    #2. sort by genes\n",
    "    df_bi = human_sub_srt.copy()\n",
    "    df_bi[df_bi > 1] = 1\n",
    "\n",
    "    models = pd.Series(human_sub_srt.index).map(myDict)\n",
    "\n",
    "    myModels = models.unique()\n",
    "    df_bi['models'] = models.tolist()\n",
    "    \n",
    "    df_bi = df_bi.set_index([df_bi.models,df_bi.index])\n",
    "\n",
    "    myGenes = geneCnt_m_srt.index.tolist()\n",
    "    #print myGenes\n",
    "    df_srt = df_bi.sort_values(myGenes,ascending=False).T\n",
    "    sample_sorted = df_srt.columns.tolist()\n",
    "\n",
    "    # Get new order sorted by models\n",
    "    sample_srtDf = pd.DataFrame(sample_sorted)\n",
    "    sample_srtDf.columns = ['Model','Sample']\n",
    "    #print sample_srtDf.head()\n",
    "    tmp = sample_srtDf.groupby(['Model']).Sample.unique().reset_index()\n",
    "    \n",
    "    print tmp\n",
    "    newOrder=sample_srtDf.Sample.tolist()\n",
    "\n",
    "    mySorted = human_sub_srt.reindex(newOrder)\n",
    "    return mySorted"
   ]
  },
  {
   "cell_type": "code",
   "execution_count": 141,
   "metadata": {},
   "outputs": [],
   "source": []
  },
  {
   "cell_type": "code",
   "execution_count": null,
   "metadata": {},
   "outputs": [],
   "source": []
  },
  {
   "cell_type": "code",
   "execution_count": 137,
   "metadata": {},
   "outputs": [
    {
     "data": {
      "text/html": [
       "<div>\n",
       "<style scoped>\n",
       "    .dataframe tbody tr th:only-of-type {\n",
       "        vertical-align: middle;\n",
       "    }\n",
       "\n",
       "    .dataframe tbody tr th {\n",
       "        vertical-align: top;\n",
       "    }\n",
       "\n",
       "    .dataframe thead th {\n",
       "        text-align: right;\n",
       "    }\n",
       "</style>\n",
       "<table border=\"1\" class=\"dataframe\">\n",
       "  <thead>\n",
       "    <tr style=\"text-align: right;\">\n",
       "      <th>SYMBOL</th>\n",
       "      <th>TP53</th>\n",
       "      <th>CTNNB1</th>\n",
       "      <th>ALB</th>\n",
       "      <th>APOB</th>\n",
       "      <th>ARID1A</th>\n",
       "      <th>LRP1B</th>\n",
       "      <th>AXIN1</th>\n",
       "      <th>ARID2</th>\n",
       "      <th>KMT2D</th>\n",
       "      <th>TSC2</th>\n",
       "    </tr>\n",
       "    <tr>\n",
       "      <th>SAMPLE</th>\n",
       "      <th></th>\n",
       "      <th></th>\n",
       "      <th></th>\n",
       "      <th></th>\n",
       "      <th></th>\n",
       "      <th></th>\n",
       "      <th></th>\n",
       "      <th></th>\n",
       "      <th></th>\n",
       "      <th></th>\n",
       "    </tr>\n",
       "  </thead>\n",
       "  <tbody>\n",
       "    <tr>\n",
       "      <th>DO50902</th>\n",
       "      <td>4.0</td>\n",
       "      <td>4.0</td>\n",
       "      <td>4.0</td>\n",
       "      <td>0.0</td>\n",
       "      <td>0.0</td>\n",
       "      <td>0.0</td>\n",
       "      <td>0.0</td>\n",
       "      <td>0.0</td>\n",
       "      <td>0.0</td>\n",
       "      <td>0.0</td>\n",
       "    </tr>\n",
       "    <tr>\n",
       "      <th>A5SJ</th>\n",
       "      <td>4.0</td>\n",
       "      <td>4.0</td>\n",
       "      <td>4.0</td>\n",
       "      <td>0.0</td>\n",
       "      <td>0.0</td>\n",
       "      <td>0.0</td>\n",
       "      <td>0.0</td>\n",
       "      <td>0.0</td>\n",
       "      <td>0.0</td>\n",
       "      <td>0.0</td>\n",
       "    </tr>\n",
       "    <tr>\n",
       "      <th>DO23366</th>\n",
       "      <td>4.0</td>\n",
       "      <td>4.0</td>\n",
       "      <td>0.0</td>\n",
       "      <td>4.0</td>\n",
       "      <td>4.0</td>\n",
       "      <td>0.0</td>\n",
       "      <td>-1.0</td>\n",
       "      <td>0.0</td>\n",
       "      <td>0.0</td>\n",
       "      <td>0.0</td>\n",
       "    </tr>\n",
       "    <tr>\n",
       "      <th>AAV4</th>\n",
       "      <td>2.0</td>\n",
       "      <td>4.0</td>\n",
       "      <td>0.0</td>\n",
       "      <td>4.0</td>\n",
       "      <td>0.0</td>\n",
       "      <td>0.0</td>\n",
       "      <td>0.0</td>\n",
       "      <td>2.0</td>\n",
       "      <td>0.0</td>\n",
       "      <td>0.0</td>\n",
       "    </tr>\n",
       "    <tr>\n",
       "      <th>DO50771</th>\n",
       "      <td>4.0</td>\n",
       "      <td>4.0</td>\n",
       "      <td>0.0</td>\n",
       "      <td>4.0</td>\n",
       "      <td>0.0</td>\n",
       "      <td>0.0</td>\n",
       "      <td>0.0</td>\n",
       "      <td>0.0</td>\n",
       "      <td>0.0</td>\n",
       "      <td>0.0</td>\n",
       "    </tr>\n",
       "  </tbody>\n",
       "</table>\n",
       "</div>"
      ],
      "text/plain": [
       "SYMBOL   TP53  CTNNB1  ALB  APOB  ARID1A  LRP1B  AXIN1  ARID2  KMT2D  TSC2\n",
       "SAMPLE                                                                    \n",
       "DO50902   4.0     4.0  4.0   0.0     0.0    0.0    0.0    0.0    0.0   0.0\n",
       "A5SJ      4.0     4.0  4.0   0.0     0.0    0.0    0.0    0.0    0.0   0.0\n",
       "DO23366   4.0     4.0  0.0   4.0     4.0    0.0   -1.0    0.0    0.0   0.0\n",
       "AAV4      2.0     4.0  0.0   4.0     0.0    0.0    0.0    2.0    0.0   0.0\n",
       "DO50771   4.0     4.0  0.0   4.0     0.0    0.0    0.0    0.0    0.0   0.0"
      ]
     },
     "execution_count": 137,
     "metadata": {},
     "output_type": "execute_result"
    }
   ],
   "source": [
    "mySorted2.head()"
   ]
  },
  {
   "cell_type": "code",
   "execution_count": 143,
   "metadata": {},
   "outputs": [],
   "source": []
  },
  {
   "cell_type": "code",
   "execution_count": null,
   "metadata": {},
   "outputs": [],
   "source": []
  },
  {
   "cell_type": "code",
   "execution_count": 144,
   "metadata": {},
   "outputs": [
    {
     "name": "stdout",
     "output_type": "stream",
     "text": [
      "sort comut\n",
      "     Model                                             Sample\n",
      "0  LICA-CN  [DO224866, DO224912, DO224800, DO224552, DO224...\n",
      "1  LICA-FR  [DO50902, DO50771, DO44692, DO50919, DO50928, ...\n",
      "2  LIHC-US  [A5SJ, AAV4, AACB, A7MD, A4ZQ, A25Z, A7MC, A7D...\n",
      "3  LINC-JP  [DO23366, DO23158, DO23270, DO23308, DO23296, ...\n"
     ]
    },
    {
     "data": {
      "image/png": "[encoded data removed]",
      "text/plain": [
       "<matplotlib.figure.Figure at 0x7fcc87abe950>"
      ]
     },
     "metadata": {},
     "output_type": "display_data"
    }
   ],
   "source": [
    "mySorted2 = sort_comut_human_mixed(human_sub_srt,geneCnt_h_srt,humanToProj_dict)\n",
    "sub_mutCnt_h.index = sub_mutCnt_h.SAMPLE\n",
    "sub_mutCnt_h_srt = sub_mutCnt_h.loc[mySorted2.index.tolist()]\n",
    "plot_final_small_human(mySorted2, sub_mutCnt_h_srt, geneCnt_h_srt, geneCnt_m_srt, humanToProj_dict,'human_all_hcc_mixed.pdf')"
   ]
  },
  {
   "cell_type": "code",
   "execution_count": null,
   "metadata": {},
   "outputs": [],
   "source": []
  },
  {
   "cell_type": "code",
   "execution_count": 114,
   "metadata": {},
   "outputs": [
    {
     "name": "stdout",
     "output_type": "stream",
     "text": [
      "/cellar/users/mdow/Projects/HCC/Automate_figure_generate\r\n"
     ]
    }
   ],
   "source": [
    "! pwd"
   ]
  },
  {
   "cell_type": "code",
   "execution_count": null,
   "metadata": {
    "collapsed": true
   },
   "outputs": [],
   "source": []
  },
  {
   "cell_type": "code",
   "execution_count": null,
   "metadata": {},
   "outputs": [],
   "source": []
  },
  {
   "cell_type": "code",
   "execution_count": null,
   "metadata": {},
   "outputs": [],
   "source": []
  },
  {
   "cell_type": "code",
   "execution_count": null,
   "metadata": {
    "collapsed": true
   },
   "outputs": [],
   "source": []
  }
 ],
 "metadata": {
  "anaconda-cloud": {},
  "kernelspec": {
   "display_name": "Python [conda root]",
   "language": "python",
   "name": "conda-root-py"
  },
  "language_info": {
   "codemirror_mode": {
    "name": "ipython",
    "version": 2
   },
   "file_extension": ".py",
   "mimetype": "text/x-python",
   "name": "python",
   "nbconvert_exporter": "python",
   "pygments_lexer": "ipython2",
   "version": "2.7.12"
  }
 },
 "nbformat": 4,
 "nbformat_minor": 1
}
