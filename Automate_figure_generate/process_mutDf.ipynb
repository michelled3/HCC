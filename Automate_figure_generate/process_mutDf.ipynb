{
 "cells": [
  {
   "cell_type": "code",
   "execution_count": 2,
   "metadata": {},
   "outputs": [
    {
     "name": "stderr",
     "output_type": "stream",
     "text": [
      "/cellar/users/mdow/anaconda2/lib/python2.7/site-packages/IPython/nbformat.py:13: ShimWarning: The `IPython.nbformat` package has been deprecated. You should import from nbformat instead.\n",
      "  \"You should import from nbformat instead.\", ShimWarning)\n",
      "/cellar/users/mdow/anaconda2/lib/python2.7/site-packages/nbformat/current.py:19: UserWarning: nbformat.current is deprecated.\n",
      "\n",
      "- use nbformat for read/write/validate public API\n",
      "- use nbformat.vX directly to composing notebooks of a particular version\n",
      "\n",
      "  \"\"\")\n"
     ]
    },
    {
     "name": "stdout",
     "output_type": "stream",
     "text": [
      "(561, 7)\n",
      "y    559\n",
      "n      2\n",
      "Name: Cancer_census, dtype: int64\n"
     ]
    }
   ],
   "source": [
    "import io\n",
    "from IPython.nbformat import current\n",
    "def execute_notebook(nbfile):\n",
    "    with io.open(nbfile) as f:\n",
    "        nb = current.read(f, 'json')\n",
    "    ip = get_ipython()\n",
    "    for cell in nb.worksheets[0].cells:\n",
    "        if cell.cell_type != 'code':\n",
    "            continue\n",
    "        ip.run_cell(cell.input)\n",
    "execute_notebook(\"/cellar/users/mdow/Projects/HCC/Automate_figure_generate/imports.ipynb\")"
   ]
  },
  {
   "cell_type": "code",
   "execution_count": null,
   "metadata": {
    "collapsed": true
   },
   "outputs": [],
   "source": []
  },
  {
   "cell_type": "code",
   "execution_count": null,
   "metadata": {
    "collapsed": true
   },
   "outputs": [],
   "source": []
  },
  {
   "cell_type": "markdown",
   "metadata": {},
   "source": [
    "## Input: A mutation df with gene, consequences, and sample name (and maybe cohort) \n",
    "## Output: Plot scoring function for the six types"
   ]
  },
  {
   "cell_type": "code",
   "execution_count": 87,
   "metadata": {},
   "outputs": [],
   "source": [
    "mouse_fname = '/cellar/users/mdow/Projects/HCC/DNA_analysis/Mouse_DNA/annotated_final_filtered_01162018.csv'\n",
    "mouse = pd.read_csv(mouse_fname,index_col=0)\n",
    "\n",
    "human_fname = '/cellar/users/mdow/Projects/HCC/DNA_analysis/Mouse_DNA/human_mut_final.pkl'\n",
    "human = pd.read_pickle(human_fname)"
   ]
  },
  {
   "cell_type": "code",
   "execution_count": 88,
   "metadata": {},
   "outputs": [
    {
     "data": {
      "text/html": [
       "<div>\n",
       "<style scoped>\n",
       "    .dataframe tbody tr th:only-of-type {\n",
       "        vertical-align: middle;\n",
       "    }\n",
       "\n",
       "    .dataframe tbody tr th {\n",
       "        vertical-align: top;\n",
       "    }\n",
       "\n",
       "    .dataframe thead th {\n",
       "        text-align: right;\n",
       "    }\n",
       "</style>\n",
       "<table border=\"1\" class=\"dataframe\">\n",
       "  <thead>\n",
       "    <tr style=\"text-align: right;\">\n",
       "      <th></th>\n",
       "      <th>Uploaded_variation</th>\n",
       "      <th>Location</th>\n",
       "      <th>Allele</th>\n",
       "      <th>Gene</th>\n",
       "      <th>Feature</th>\n",
       "      <th>Feature_type</th>\n",
       "      <th>Consequence</th>\n",
       "      <th>cDNA_position</th>\n",
       "      <th>CDS_position</th>\n",
       "      <th>Protein_position</th>\n",
       "      <th>Amino_acids</th>\n",
       "      <th>Codons</th>\n",
       "      <th>Existing_variation</th>\n",
       "      <th>Extra</th>\n",
       "      <th>IMPACT</th>\n",
       "      <th>STRAND</th>\n",
       "      <th>SYMBOL</th>\n",
       "      <th>MODEL</th>\n",
       "      <th>SAMPLE</th>\n",
       "      <th>Species</th>\n",
       "    </tr>\n",
       "  </thead>\n",
       "  <tbody>\n",
       "    <tr>\n",
       "      <th>0</th>\n",
       "      <td>LICA-CN:DO224538</td>\n",
       "      <td>1:32256570</td>\n",
       "      <td>T</td>\n",
       "      <td>ENSG00000134668</td>\n",
       "      <td>ENST00000360482</td>\n",
       "      <td>Transcript</td>\n",
       "      <td>synonymous_variant</td>\n",
       "      <td>3415</td>\n",
       "      <td>3285</td>\n",
       "      <td>1095</td>\n",
       "      <td>R</td>\n",
       "      <td>agG/agA</td>\n",
       "      <td>-</td>\n",
       "      <td>IMPACT=LOW;STRAND=-1;SYMBOL=SPOCD1;SYMBOL_SOUR...</td>\n",
       "      <td>LOW</td>\n",
       "      <td>-1</td>\n",
       "      <td>SPOCD1</td>\n",
       "      <td>LICA-CN</td>\n",
       "      <td>DO224538</td>\n",
       "      <td>Human</td>\n",
       "    </tr>\n",
       "    <tr>\n",
       "      <th>1</th>\n",
       "      <td>LICA-CN:DO224538</td>\n",
       "      <td>1:156084800</td>\n",
       "      <td>A</td>\n",
       "      <td>ENSG00000160789</td>\n",
       "      <td>ENST00000368300</td>\n",
       "      <td>Transcript</td>\n",
       "      <td>missense_variant</td>\n",
       "      <td>303</td>\n",
       "      <td>91</td>\n",
       "      <td>31</td>\n",
       "      <td>E/K</td>\n",
       "      <td>Gag/Aag</td>\n",
       "      <td>-</td>\n",
       "      <td>IMPACT=MODERATE;STRAND=1;SYMBOL=LMNA;SYMBOL_SO...</td>\n",
       "      <td>MODERATE</td>\n",
       "      <td>1</td>\n",
       "      <td>LMNA</td>\n",
       "      <td>LICA-CN</td>\n",
       "      <td>DO224538</td>\n",
       "      <td>Human</td>\n",
       "    </tr>\n",
       "    <tr>\n",
       "      <th>2</th>\n",
       "      <td>LICA-CN:DO224538</td>\n",
       "      <td>1:112525260</td>\n",
       "      <td>A</td>\n",
       "      <td>ENSG00000171385</td>\n",
       "      <td>ENST00000315987</td>\n",
       "      <td>Transcript</td>\n",
       "      <td>missense_variant</td>\n",
       "      <td>569</td>\n",
       "      <td>89</td>\n",
       "      <td>30</td>\n",
       "      <td>A/V</td>\n",
       "      <td>gCc/gTc</td>\n",
       "      <td>-</td>\n",
       "      <td>IMPACT=MODERATE;STRAND=-1;SYMBOL=KCND3;SYMBOL_...</td>\n",
       "      <td>MODERATE</td>\n",
       "      <td>-1</td>\n",
       "      <td>KCND3</td>\n",
       "      <td>LICA-CN</td>\n",
       "      <td>DO224538</td>\n",
       "      <td>Human</td>\n",
       "    </tr>\n",
       "    <tr>\n",
       "      <th>3</th>\n",
       "      <td>LICA-CN:DO224538</td>\n",
       "      <td>1:11561073</td>\n",
       "      <td>A</td>\n",
       "      <td>ENSG00000204624</td>\n",
       "      <td>ENST00000294484</td>\n",
       "      <td>Transcript</td>\n",
       "      <td>synonymous_variant</td>\n",
       "      <td>162</td>\n",
       "      <td>24</td>\n",
       "      <td>8</td>\n",
       "      <td>L</td>\n",
       "      <td>ttG/ttA</td>\n",
       "      <td>-</td>\n",
       "      <td>IMPACT=LOW;STRAND=1;SYMBOL=PTCHD2;SYMBOL_SOURC...</td>\n",
       "      <td>LOW</td>\n",
       "      <td>1</td>\n",
       "      <td>PTCHD2</td>\n",
       "      <td>LICA-CN</td>\n",
       "      <td>DO224538</td>\n",
       "      <td>Human</td>\n",
       "    </tr>\n",
       "    <tr>\n",
       "      <th>4</th>\n",
       "      <td>LICA-CN:DO224538</td>\n",
       "      <td>1:248637181</td>\n",
       "      <td>C</td>\n",
       "      <td>ENSG00000196539</td>\n",
       "      <td>ENST00000359594</td>\n",
       "      <td>Transcript</td>\n",
       "      <td>missense_variant</td>\n",
       "      <td>555</td>\n",
       "      <td>530</td>\n",
       "      <td>177</td>\n",
       "      <td>R/T</td>\n",
       "      <td>aGg/aCg</td>\n",
       "      <td>-</td>\n",
       "      <td>IMPACT=MODERATE;STRAND=1;SYMBOL=OR2T3;SYMBOL_S...</td>\n",
       "      <td>MODERATE</td>\n",
       "      <td>1</td>\n",
       "      <td>OR2T3</td>\n",
       "      <td>LICA-CN</td>\n",
       "      <td>DO224538</td>\n",
       "      <td>Human</td>\n",
       "    </tr>\n",
       "  </tbody>\n",
       "</table>\n",
       "</div>"
      ],
      "text/plain": [
       "  Uploaded_variation     Location Allele             Gene          Feature  \\\n",
       "0   LICA-CN:DO224538   1:32256570      T  ENSG00000134668  ENST00000360482   \n",
       "1   LICA-CN:DO224538  1:156084800      A  ENSG00000160789  ENST00000368300   \n",
       "2   LICA-CN:DO224538  1:112525260      A  ENSG00000171385  ENST00000315987   \n",
       "3   LICA-CN:DO224538   1:11561073      A  ENSG00000204624  ENST00000294484   \n",
       "4   LICA-CN:DO224538  1:248637181      C  ENSG00000196539  ENST00000359594   \n",
       "\n",
       "  Feature_type         Consequence cDNA_position CDS_position  \\\n",
       "0   Transcript  synonymous_variant          3415         3285   \n",
       "1   Transcript    missense_variant           303           91   \n",
       "2   Transcript    missense_variant           569           89   \n",
       "3   Transcript  synonymous_variant           162           24   \n",
       "4   Transcript    missense_variant           555          530   \n",
       "\n",
       "  Protein_position Amino_acids   Codons Existing_variation  \\\n",
       "0             1095           R  agG/agA                  -   \n",
       "1               31         E/K  Gag/Aag                  -   \n",
       "2               30         A/V  gCc/gTc                  -   \n",
       "3                8           L  ttG/ttA                  -   \n",
       "4              177         R/T  aGg/aCg                  -   \n",
       "\n",
       "                                               Extra    IMPACT STRAND  SYMBOL  \\\n",
       "0  IMPACT=LOW;STRAND=-1;SYMBOL=SPOCD1;SYMBOL_SOUR...       LOW     -1  SPOCD1   \n",
       "1  IMPACT=MODERATE;STRAND=1;SYMBOL=LMNA;SYMBOL_SO...  MODERATE      1    LMNA   \n",
       "2  IMPACT=MODERATE;STRAND=-1;SYMBOL=KCND3;SYMBOL_...  MODERATE     -1   KCND3   \n",
       "3  IMPACT=LOW;STRAND=1;SYMBOL=PTCHD2;SYMBOL_SOURC...       LOW      1  PTCHD2   \n",
       "4  IMPACT=MODERATE;STRAND=1;SYMBOL=OR2T3;SYMBOL_S...  MODERATE      1   OR2T3   \n",
       "\n",
       "     MODEL    SAMPLE Species  \n",
       "0  LICA-CN  DO224538   Human  \n",
       "1  LICA-CN  DO224538   Human  \n",
       "2  LICA-CN  DO224538   Human  \n",
       "3  LICA-CN  DO224538   Human  \n",
       "4  LICA-CN  DO224538   Human  "
      ]
     },
     "execution_count": 88,
     "metadata": {},
     "output_type": "execute_result"
    }
   ],
   "source": [
    "human.head()"
   ]
  },
  {
   "cell_type": "markdown",
   "metadata": {},
   "source": [
    "## TCGA"
   ]
  },
  {
   "cell_type": "code",
   "execution_count": 8,
   "metadata": {},
   "outputs": [
    {
     "name": "stderr",
     "output_type": "stream",
     "text": [
      "/cellar/users/mdow/anaconda2/lib/python2.7/site-packages/IPython/core/interactiveshell.py:2717: DtypeWarning: Columns (118) have mixed types. Specify dtype option on import or set low_memory=False.\n",
      "  interactivity=interactivity, compiler=compiler, result=result)\n"
     ]
    }
   ],
   "source": [
    "human_tcga = pd.read_csv('/cellar/users/hcarter/projects/germline/exprs/snps/collab/TP53/mutations/LIHC/LIHC.mutect.maf',skiprows=5,sep='\\t')\n"
   ]
  },
  {
   "cell_type": "code",
   "execution_count": 9,
   "metadata": {},
   "outputs": [
    {
     "data": {
      "text/html": [
       "<div>\n",
       "<style scoped>\n",
       "    .dataframe tbody tr th:only-of-type {\n",
       "        vertical-align: middle;\n",
       "    }\n",
       "\n",
       "    .dataframe tbody tr th {\n",
       "        vertical-align: top;\n",
       "    }\n",
       "\n",
       "    .dataframe thead th {\n",
       "        text-align: right;\n",
       "    }\n",
       "</style>\n",
       "<table border=\"1\" class=\"dataframe\">\n",
       "  <thead>\n",
       "    <tr style=\"text-align: right;\">\n",
       "      <th></th>\n",
       "      <th>Hugo_Symbol</th>\n",
       "      <th>Entrez_Gene_Id</th>\n",
       "      <th>Center</th>\n",
       "      <th>NCBI_Build</th>\n",
       "      <th>Chromosome</th>\n",
       "      <th>Start_Position</th>\n",
       "      <th>End_Position</th>\n",
       "      <th>Strand</th>\n",
       "      <th>Variant_Classification</th>\n",
       "      <th>Variant_Type</th>\n",
       "      <th>...</th>\n",
       "      <th>FILTER</th>\n",
       "      <th>CONTEXT</th>\n",
       "      <th>src_vcf_id</th>\n",
       "      <th>tumor_bam_uuid</th>\n",
       "      <th>normal_bam_uuid</th>\n",
       "      <th>case_id</th>\n",
       "      <th>GDC_FILTER</th>\n",
       "      <th>COSMIC</th>\n",
       "      <th>MC3_Overlap</th>\n",
       "      <th>GDC_Validation_Status</th>\n",
       "    </tr>\n",
       "  </thead>\n",
       "  <tbody>\n",
       "    <tr>\n",
       "      <th>0</th>\n",
       "      <td>TARDBP</td>\n",
       "      <td>23435</td>\n",
       "      <td>BCM</td>\n",
       "      <td>GRCh38</td>\n",
       "      <td>chr1</td>\n",
       "      <td>11022977</td>\n",
       "      <td>11022977</td>\n",
       "      <td>+</td>\n",
       "      <td>3'UTR</td>\n",
       "      <td>SNP</td>\n",
       "      <td>...</td>\n",
       "      <td>PASS</td>\n",
       "      <td>AGTGAATTCTT</td>\n",
       "      <td>6196ea15-413d-49e0-b63e-8674412c6938</td>\n",
       "      <td>d1f202a6-a21d-4070-90ec-a0c0b56ac563</td>\n",
       "      <td>db524b2a-3200-48b5-86bf-69925a2f228f</td>\n",
       "      <td>219b067c-522f-4971-b0d0-86f9971d369d</td>\n",
       "      <td>NaN</td>\n",
       "      <td>NaN</td>\n",
       "      <td>True</td>\n",
       "      <td>Unknown</td>\n",
       "    </tr>\n",
       "    <tr>\n",
       "      <th>1</th>\n",
       "      <td>TNFRSF8</td>\n",
       "      <td>943</td>\n",
       "      <td>BCM</td>\n",
       "      <td>GRCh38</td>\n",
       "      <td>chr1</td>\n",
       "      <td>12125920</td>\n",
       "      <td>12125920</td>\n",
       "      <td>+</td>\n",
       "      <td>Intron</td>\n",
       "      <td>SNP</td>\n",
       "      <td>...</td>\n",
       "      <td>PASS</td>\n",
       "      <td>GCAAGGCAAAG</td>\n",
       "      <td>6196ea15-413d-49e0-b63e-8674412c6938</td>\n",
       "      <td>d1f202a6-a21d-4070-90ec-a0c0b56ac563</td>\n",
       "      <td>db524b2a-3200-48b5-86bf-69925a2f228f</td>\n",
       "      <td>219b067c-522f-4971-b0d0-86f9971d369d</td>\n",
       "      <td>NaN</td>\n",
       "      <td>NaN</td>\n",
       "      <td>True</td>\n",
       "      <td>Unknown</td>\n",
       "    </tr>\n",
       "    <tr>\n",
       "      <th>2</th>\n",
       "      <td>RPL11</td>\n",
       "      <td>6135</td>\n",
       "      <td>BCM</td>\n",
       "      <td>GRCh38</td>\n",
       "      <td>chr1</td>\n",
       "      <td>23693905</td>\n",
       "      <td>23693905</td>\n",
       "      <td>+</td>\n",
       "      <td>Missense_Mutation</td>\n",
       "      <td>SNP</td>\n",
       "      <td>...</td>\n",
       "      <td>PASS</td>\n",
       "      <td>AGAAGGGTCTA</td>\n",
       "      <td>6196ea15-413d-49e0-b63e-8674412c6938</td>\n",
       "      <td>d1f202a6-a21d-4070-90ec-a0c0b56ac563</td>\n",
       "      <td>db524b2a-3200-48b5-86bf-69925a2f228f</td>\n",
       "      <td>219b067c-522f-4971-b0d0-86f9971d369d</td>\n",
       "      <td>NaN</td>\n",
       "      <td>NaN</td>\n",
       "      <td>True</td>\n",
       "      <td>Unknown</td>\n",
       "    </tr>\n",
       "    <tr>\n",
       "      <th>3</th>\n",
       "      <td>IL22RA1</td>\n",
       "      <td>58985</td>\n",
       "      <td>BCM</td>\n",
       "      <td>GRCh38</td>\n",
       "      <td>chr1</td>\n",
       "      <td>24121599</td>\n",
       "      <td>24121599</td>\n",
       "      <td>+</td>\n",
       "      <td>Missense_Mutation</td>\n",
       "      <td>SNP</td>\n",
       "      <td>...</td>\n",
       "      <td>PASS</td>\n",
       "      <td>GGGCTCCCTGG</td>\n",
       "      <td>6196ea15-413d-49e0-b63e-8674412c6938</td>\n",
       "      <td>d1f202a6-a21d-4070-90ec-a0c0b56ac563</td>\n",
       "      <td>db524b2a-3200-48b5-86bf-69925a2f228f</td>\n",
       "      <td>219b067c-522f-4971-b0d0-86f9971d369d</td>\n",
       "      <td>NaN</td>\n",
       "      <td>NaN</td>\n",
       "      <td>True</td>\n",
       "      <td>Unknown</td>\n",
       "    </tr>\n",
       "    <tr>\n",
       "      <th>4</th>\n",
       "      <td>ADPRHL2</td>\n",
       "      <td>54936</td>\n",
       "      <td>BCM</td>\n",
       "      <td>GRCh38</td>\n",
       "      <td>chr1</td>\n",
       "      <td>36088901</td>\n",
       "      <td>36088901</td>\n",
       "      <td>+</td>\n",
       "      <td>5'UTR</td>\n",
       "      <td>SNP</td>\n",
       "      <td>...</td>\n",
       "      <td>PASS</td>\n",
       "      <td>TGCGCGCGGAT</td>\n",
       "      <td>6196ea15-413d-49e0-b63e-8674412c6938</td>\n",
       "      <td>d1f202a6-a21d-4070-90ec-a0c0b56ac563</td>\n",
       "      <td>db524b2a-3200-48b5-86bf-69925a2f228f</td>\n",
       "      <td>219b067c-522f-4971-b0d0-86f9971d369d</td>\n",
       "      <td>NaN</td>\n",
       "      <td>NaN</td>\n",
       "      <td>True</td>\n",
       "      <td>Unknown</td>\n",
       "    </tr>\n",
       "  </tbody>\n",
       "</table>\n",
       "<p>5 rows × 120 columns</p>\n",
       "</div>"
      ],
      "text/plain": [
       "  Hugo_Symbol  Entrez_Gene_Id Center NCBI_Build Chromosome  Start_Position  \\\n",
       "0      TARDBP           23435    BCM     GRCh38       chr1        11022977   \n",
       "1     TNFRSF8             943    BCM     GRCh38       chr1        12125920   \n",
       "2       RPL11            6135    BCM     GRCh38       chr1        23693905   \n",
       "3     IL22RA1           58985    BCM     GRCh38       chr1        24121599   \n",
       "4     ADPRHL2           54936    BCM     GRCh38       chr1        36088901   \n",
       "\n",
       "   End_Position Strand Variant_Classification Variant_Type  \\\n",
       "0      11022977      +                  3'UTR          SNP   \n",
       "1      12125920      +                 Intron          SNP   \n",
       "2      23693905      +      Missense_Mutation          SNP   \n",
       "3      24121599      +      Missense_Mutation          SNP   \n",
       "4      36088901      +                  5'UTR          SNP   \n",
       "\n",
       "           ...           FILTER      CONTEXT  \\\n",
       "0          ...             PASS  AGTGAATTCTT   \n",
       "1          ...             PASS  GCAAGGCAAAG   \n",
       "2          ...             PASS  AGAAGGGTCTA   \n",
       "3          ...             PASS  GGGCTCCCTGG   \n",
       "4          ...             PASS  TGCGCGCGGAT   \n",
       "\n",
       "                             src_vcf_id                        tumor_bam_uuid  \\\n",
       "0  6196ea15-413d-49e0-b63e-8674412c6938  d1f202a6-a21d-4070-90ec-a0c0b56ac563   \n",
       "1  6196ea15-413d-49e0-b63e-8674412c6938  d1f202a6-a21d-4070-90ec-a0c0b56ac563   \n",
       "2  6196ea15-413d-49e0-b63e-8674412c6938  d1f202a6-a21d-4070-90ec-a0c0b56ac563   \n",
       "3  6196ea15-413d-49e0-b63e-8674412c6938  d1f202a6-a21d-4070-90ec-a0c0b56ac563   \n",
       "4  6196ea15-413d-49e0-b63e-8674412c6938  d1f202a6-a21d-4070-90ec-a0c0b56ac563   \n",
       "\n",
       "                        normal_bam_uuid                               case_id  \\\n",
       "0  db524b2a-3200-48b5-86bf-69925a2f228f  219b067c-522f-4971-b0d0-86f9971d369d   \n",
       "1  db524b2a-3200-48b5-86bf-69925a2f228f  219b067c-522f-4971-b0d0-86f9971d369d   \n",
       "2  db524b2a-3200-48b5-86bf-69925a2f228f  219b067c-522f-4971-b0d0-86f9971d369d   \n",
       "3  db524b2a-3200-48b5-86bf-69925a2f228f  219b067c-522f-4971-b0d0-86f9971d369d   \n",
       "4  db524b2a-3200-48b5-86bf-69925a2f228f  219b067c-522f-4971-b0d0-86f9971d369d   \n",
       "\n",
       "  GDC_FILTER  COSMIC  MC3_Overlap  GDC_Validation_Status  \n",
       "0        NaN     NaN         True                Unknown  \n",
       "1        NaN     NaN         True                Unknown  \n",
       "2        NaN     NaN         True                Unknown  \n",
       "3        NaN     NaN         True                Unknown  \n",
       "4        NaN     NaN         True                Unknown  \n",
       "\n",
       "[5 rows x 120 columns]"
      ]
     },
     "execution_count": 9,
     "metadata": {},
     "output_type": "execute_result"
    }
   ],
   "source": [
    "human_tcga.head()"
   ]
  },
  {
   "cell_type": "code",
   "execution_count": 10,
   "metadata": {},
   "outputs": [],
   "source": [
    "human_tcga['MODEL'] = 'TCGA'\n",
    "\n",
    "human_tcga['SAMPLE'] = human_tcga.Tumor_Sample_Barcode.str.split('-').str[2]"
   ]
  },
  {
   "cell_type": "code",
   "execution_count": 68,
   "metadata": {},
   "outputs": [],
   "source": [
    "tcga_consq_dict = {\"3'UTR\":'3_prime_UTR_variant', 'Intron':'splice_region_variant,intron_variant', 'Missense_Mutation':'missense_variant', \n",
    "                   \"5'UTR\":'5_prime_UTR_variant', 'Silent':'synonymous_variant',\n",
    "                   'Translation_Start_Site':'non_coding_transcript_exon_variant,non_coding_transcript_variant', \n",
    "                   'Nonsense_Mutation':'stop_gained', \n",
    "                   'RNA':'non_coding_transcript_exon_variant,non_coding_transcript_variant', \n",
    "                   \"3'Flank\":'downstream_gene_variant',\n",
    "                   'Frame_Shift_Del':'frameshift_variant',\n",
    "                   'Splice_Site':'splice_region_variant,intron_variant', \n",
    "                   \"5'Flank\":'upstream_gene_variant', \n",
    "                   'In_Frame_Del':'inframe_deletion',\n",
    "                   'Splice_Region':'splice_region_variant,intron_variant', \n",
    "                   'Frame_Shift_Ins':'frameshift_variant', \n",
    "                   'In_Frame_Ins':'inframe_insertion',\n",
    "                   'Nonstop_Mutation':'stop_lost', \n",
    "                   'IGR':'intergenic_variant'}\n",
    "\n",
    "human_tcga['Consequence'] = human_tcga.Variant_Classification.map(tcga_consq_dict)"
   ]
  },
  {
   "cell_type": "code",
   "execution_count": null,
   "metadata": {},
   "outputs": [],
   "source": []
  },
  {
   "cell_type": "code",
   "execution_count": null,
   "metadata": {},
   "outputs": [],
   "source": []
  },
  {
   "cell_type": "markdown",
   "metadata": {},
   "source": [
    "### Change into input format\n",
    "#### Cols: \tMODEL\tSAMPLE\tSYMBOL\tConsequence"
   ]
  },
  {
   "cell_type": "code",
   "execution_count": 128,
   "metadata": {},
   "outputs": [
    {
     "name": "stdout",
     "output_type": "stream",
     "text": [
      "Mouse\n",
      "(75839, 4)\n",
      "75839\n",
      "75839\n",
      "Human\n",
      "(381167, 4)\n",
      "381167\n",
      "381167\n"
     ]
    }
   ],
   "source": [
    "inCols = ['MODEL','SAMPLE','SYMBOL','Consequence']\n",
    "\n",
    "mouse_sub= mouse[inCols].drop_duplicates().reset_index(drop=True)\n",
    "human_sub = human[inCols].drop_duplicates().reset_index(drop=True)\n",
    "\n",
    "print 'Mouse'\n",
    "mouse_score = get_dfScore_new(mouse_sub)\n",
    "print 'Human'\n",
    "human_score = get_dfScore_new(human_sub)"
   ]
  },
  {
   "cell_type": "code",
   "execution_count": 129,
   "metadata": {},
   "outputs": [
    {
     "name": "stdout",
     "output_type": "stream",
     "text": [
      "(53543, 4)\n",
      "53543\n",
      "53543\n"
     ]
    }
   ],
   "source": [
    "tcga_sub = human_tcga[inCols].drop_duplicates().reset_index(drop=True)\n",
    "human_tcga_score = get_dfScore_new(tcga_sub)"
   ]
  },
  {
   "cell_type": "code",
   "execution_count": 112,
   "metadata": {},
   "outputs": [],
   "source": [
    "human_score_combo = pd.concat([human_score,human_tcga_score])"
   ]
  },
  {
   "cell_type": "code",
   "execution_count": 130,
   "metadata": {},
   "outputs": [
    {
     "data": {
      "text/plain": [
       "(434710, 5)"
      ]
     },
     "execution_count": 130,
     "metadata": {},
     "output_type": "execute_result"
    }
   ],
   "source": [
    "human_score_combo.shape"
   ]
  },
  {
   "cell_type": "code",
   "execution_count": 131,
   "metadata": {},
   "outputs": [
    {
     "data": {
      "text/plain": [
       "LINC-JP    206815\n",
       "LICA-FR    132484\n",
       "TCGA        53543\n",
       "LIHC-US     25902\n",
       "LICA-CN     15966\n",
       "Name: MODEL, dtype: int64"
      ]
     },
     "execution_count": 131,
     "metadata": {},
     "output_type": "execute_result"
    }
   ],
   "source": [
    "human_score_combo.MODEL.value_counts()"
   ]
  },
  {
   "cell_type": "code",
   "execution_count": 99,
   "metadata": {},
   "outputs": [],
   "source": [
    "human_score_combo.to_pickle('human_tcga_icgc_mutations.pkl')"
   ]
  },
  {
   "cell_type": "code",
   "execution_count": null,
   "metadata": {},
   "outputs": [],
   "source": []
  },
  {
   "cell_type": "code",
   "execution_count": null,
   "metadata": {},
   "outputs": [],
   "source": []
  },
  {
   "cell_type": "code",
   "execution_count": null,
   "metadata": {},
   "outputs": [],
   "source": []
  },
  {
   "cell_type": "markdown",
   "metadata": {},
   "source": [
    "## Unstack the score functions"
   ]
  },
  {
   "cell_type": "code",
   "execution_count": 100,
   "metadata": {},
   "outputs": [
    {
     "name": "stdout",
     "output_type": "stream",
     "text": [
      "(835, 36592) (56, 14764)\n"
     ]
    }
   ],
   "source": [
    "mouse_uS = mouse_score.groupby(['SAMPLE','SYMBOL']).Score.first().unstack().fillna(0)\n",
    "human_uS = human_score.groupby(['SAMPLE','SYMBOL']).Score.first().unstack().fillna(0)\n",
    "\n",
    "print human_uS.shape, mouse_uS.shape"
   ]
  },
  {
   "cell_type": "code",
   "execution_count": 101,
   "metadata": {},
   "outputs": [],
   "source": [
    "human_uS.to_pickle('human_mutation_score.pkl')\n",
    "mouse_uS.to_pickle('mouse_mutation_score.pkl')"
   ]
  },
  {
   "cell_type": "code",
   "execution_count": 102,
   "metadata": {},
   "outputs": [],
   "source": [
    "human_all_uS = human_score_combo.groupby(['SAMPLE','SYMBOL']).Score.first().unstack().fillna(0)"
   ]
  },
  {
   "cell_type": "code",
   "execution_count": null,
   "metadata": {},
   "outputs": [],
   "source": []
  },
  {
   "cell_type": "code",
   "execution_count": 103,
   "metadata": {},
   "outputs": [],
   "source": [
    "human_all_uS.to_pickle('human_tcga_icgc_mutation_score.pkl')"
   ]
  },
  {
   "cell_type": "code",
   "execution_count": null,
   "metadata": {},
   "outputs": [],
   "source": []
  },
  {
   "cell_type": "markdown",
   "metadata": {},
   "source": [
    "## A empty df to add back the samples with nothing"
   ]
  },
  {
   "cell_type": "code",
   "execution_count": 22,
   "metadata": {
    "collapsed": true
   },
   "outputs": [],
   "source": [
    "mouse_empty = mouse[['MODEL','SAMPLE']].drop_duplicates().reset_index(drop=True)"
   ]
  },
  {
   "cell_type": "code",
   "execution_count": 23,
   "metadata": {},
   "outputs": [
    {
     "data": {
      "text/plain": [
       "(56, 2)"
      ]
     },
     "execution_count": 23,
     "metadata": {},
     "output_type": "execute_result"
    }
   ],
   "source": [
    "mouse_empty.shape"
   ]
  },
  {
   "cell_type": "code",
   "execution_count": null,
   "metadata": {
    "collapsed": true
   },
   "outputs": [],
   "source": []
  },
  {
   "cell_type": "markdown",
   "metadata": {},
   "source": [
    "## Generate a different score table from CHASM results (drivers)"
   ]
  },
  {
   "cell_type": "code",
   "execution_count": 4,
   "metadata": {
    "collapsed": true
   },
   "outputs": [],
   "source": [
    "#liver_nonViral = '/cellar/users/mdow/Projects/HCC/DNA_analysis/Mutation_codon/CHASM_output/mdow_20180130_125436/mut_VEST_input.tsv.CRAVAT_analysis.dev.mdow_20180130_125436.xls'\n",
    "liver_nonViral = '/cellar/users/mdow/Projects/HCC/DNA_analysis/Mutation_codon/CHASM_output/mdow_20180208_122300/mut_VEST_input.tsv.CRAVAT_analysis.dev.mdow_20180208_122300.xls'\n",
    "chasm=pd.read_excel(liver_nonViral,skiprows=11)\n",
    "\n",
    "new_cols = newCols = [ 'Input_line', 'ID','Chromosome', 'Position', 'Strand', 'Reference_base',\n",
    "'Alternate_base',  'Sample_ID', 'HUGO_symbol', 'Sequence_ontology',\n",
    "'Protein_sequence_change', 'CHASM_p_value', u'CHASM_FDR','ClinVar',\n",
    "'COSMIC_ID', 'COSMIC_variant_count_(tissue)', 'Number_of_samples_with_variant',\n",
    "'dbSNP', 'ESP6500_AF_(average)', 'GeneCards_summary_(from_http://www.genecards.org)',\n",
    "'PubMed_article_count', 'PubMed_search_term',\n",
    "'gnomAD_AF_Total', 'gnomAD_AF_African',\n",
    "'gnomAD_AF_American', 'gnomAD_AF_Ashkenazi_Jewish',\n",
    "'gnomAD_AF_East_Asian', 'gnomAD_AF_Finnish', 'gnomAD_AF_Non_Finnish_European',\n",
    "'gnomAD_AF_Other', 'gnomAD_AF_South_Asian',\n",
    "'GWAS_NHLBI_Key_(GRASP)',\n",
    "'GWAS_PMID_(GRASP)', 'GWAS_Phenotype_(GRASP)',\n",
    "'Protein_3D_variant', 'In_TCGA_Mutation_Cluster',\n",
    "'ncRNA_Class', 'ncRNA_Name', 'Pseudogene', 'Pseudogene_Transcript',\n",
    "'Repeat_Class', 'Repeat_Family',\n",
    "'Repeat_Name', 'TARGET', '1000_Genomes_AF', 'UTR/Intron',\n",
    "'UTR/Intron_Gene', 'UTR/Intron_All_Transcript',\n",
    "'VEST_p_value', 'VEST_FDR','CGL_driver_class']\n",
    "\n",
    "chasm.columns = new_cols"
   ]
  },
  {
   "cell_type": "code",
   "execution_count": 116,
   "metadata": {
    "collapsed": true
   },
   "outputs": [],
   "source": [
    "#chasm_scores = pd.read_csv('~/Projects/HCC/DNA_analysis/Mutation_codon/mouse_driver_summary_scores.csv')\n",
    "\n",
    "#chasm_scores = pd.read_csv('~/Projects/HCC/DNA_analysis/Mutation_codon/mouse_mutation_hg38_chasm.csv')"
   ]
  },
  {
   "cell_type": "code",
   "execution_count": null,
   "metadata": {
    "collapsed": true
   },
   "outputs": [],
   "source": []
  },
  {
   "cell_type": "code",
   "execution_count": null,
   "metadata": {
    "collapsed": true
   },
   "outputs": [],
   "source": []
  },
  {
   "cell_type": "code",
   "execution_count": 170,
   "metadata": {},
   "outputs": [],
   "source": [
    "#sns.jointplot(chasm.VEST_FDR,chasm.CHASM_FDR,kind='reg')\n",
    "#plt.xlabel('VEST FDR')\n",
    "#plt.ylabel('CHASM FDR')"
   ]
  },
  {
   "cell_type": "code",
   "execution_count": null,
   "metadata": {
    "collapsed": true
   },
   "outputs": [],
   "source": []
  },
  {
   "cell_type": "code",
   "execution_count": 169,
   "metadata": {
    "scrolled": false
   },
   "outputs": [],
   "source": [
    "#sns.jointplot(chasm.VEST_FDR,chasm.CHASM_FDR,kind=\"kde\")"
   ]
  },
  {
   "cell_type": "markdown",
   "metadata": {},
   "source": [
    "## Cut threshold"
   ]
  },
  {
   "cell_type": "code",
   "execution_count": 85,
   "metadata": {},
   "outputs": [
    {
     "data": {
      "text/plain": [
       "\"thres = 0.75\\nm1 = chasm.VEST_FDR <= thres\\nm2 = chasm.CHASM_FDR <= thres\\n\\nprint chasm[m1].shape, chasm[m2].shape,chasm[m1|m2].shape, chasm[m1&m2].shape\\n\\nchasm['Location'] = chasm.Chromosome.astype(str)+ ':'+chasm.Position.astype(str)+'-'+chasm.Position.astype(str)\\nchasm['Mutation'] = chasm.Chromosome.str[3:].astype(str)+ '_'+chasm.Position.astype(str)+'_'+chasm.Reference_base.astype(str)+'_'+chasm.Alternate_base.astype(str)\\n\\nchasm_drivers = chasm[m2].reset_index(drop=True)\""
      ]
     },
     "execution_count": 85,
     "metadata": {},
     "output_type": "execute_result"
    }
   ],
   "source": [
    "'''thres = 0.75\n",
    "m1 = chasm.VEST_FDR <= thres\n",
    "m2 = chasm.CHASM_FDR <= thres\n",
    "\n",
    "print chasm[m1].shape, chasm[m2].shape,chasm[m1|m2].shape, chasm[m1&m2].shape\n",
    "\n",
    "chasm['Location'] = chasm.Chromosome.astype(str)+ ':'+chasm.Position.astype(str)+'-'+chasm.Position.astype(str)\n",
    "chasm['Mutation'] = chasm.Chromosome.str[3:].astype(str)+ '_'+chasm.Position.astype(str)+'_'+chasm.Reference_base.astype(str)+'_'+chasm.Alternate_base.astype(str)\n",
    "\n",
    "chasm_drivers = chasm[m2].reset_index(drop=True)'''"
   ]
  },
  {
   "cell_type": "code",
   "execution_count": null,
   "metadata": {
    "collapsed": true
   },
   "outputs": [],
   "source": [
    "# CHASM score of 0.35 or greater for inclusion for Figure 2. \n",
    "# This should fall into the FDR > 0.6 range but would probably cause a couple more mutations to be dropped. \n",
    "#This threshold would result in us retaining 80% of the mutations, \n",
    "#with only ~10 % of the mutations being dropped being likely functional (VEST > 0.7).\n",
    "\n",
    "#Note: I considered all truncating and splice mutations to be functional, \n",
    "#and all silent mutations to be nonfunctional for this analysis. \n",
    "#I think we were going to include all truncating variants, and any recurrent silent mutations in Figure 2 anyway.\n"
   ]
  },
  {
   "cell_type": "code",
   "execution_count": 87,
   "metadata": {},
   "outputs": [
    {
     "data": {
      "text/html": [
       "<div>\n",
       "<style scoped>\n",
       "    .dataframe tbody tr th:only-of-type {\n",
       "        vertical-align: middle;\n",
       "    }\n",
       "\n",
       "    .dataframe tbody tr th {\n",
       "        vertical-align: top;\n",
       "    }\n",
       "\n",
       "    .dataframe thead th {\n",
       "        text-align: right;\n",
       "    }\n",
       "</style>\n",
       "<table border=\"1\" class=\"dataframe\">\n",
       "  <thead>\n",
       "    <tr style=\"text-align: right;\">\n",
       "      <th></th>\n",
       "      <th>MODEL</th>\n",
       "      <th>SAMPLE</th>\n",
       "      <th>SYMBOL</th>\n",
       "      <th>Mut</th>\n",
       "      <th>mouse_Consequence</th>\n",
       "      <th>mouse_Codons</th>\n",
       "      <th>mouse_AA_change</th>\n",
       "      <th>mm10_Pos</th>\n",
       "      <th>hg38_Pos</th>\n",
       "      <th>human_Mut</th>\n",
       "      <th>...</th>\n",
       "      <th>VEST_score_(stop_loss)</th>\n",
       "      <th>VEST_score_(splice_site)</th>\n",
       "      <th>COSMIC_variant_count</th>\n",
       "      <th>CHASM_p_value</th>\n",
       "      <th>CHASM_FDR</th>\n",
       "      <th>VEST_FDR</th>\n",
       "      <th>CGL_driver_class</th>\n",
       "      <th>ClinVar</th>\n",
       "      <th>COSMIC_ID</th>\n",
       "      <th>dbSNP</th>\n",
       "    </tr>\n",
       "  </thead>\n",
       "  <tbody>\n",
       "    <tr>\n",
       "      <th>0</th>\n",
       "      <td>DEN</td>\n",
       "      <td>T19</td>\n",
       "      <td>PTPRB</td>\n",
       "      <td>G/A</td>\n",
       "      <td>missense_variant</td>\n",
       "      <td>aGc/aAc</td>\n",
       "      <td>S38N</td>\n",
       "      <td>chr10:116302166-116302166</td>\n",
       "      <td>chr12:70609281-70609281</td>\n",
       "      <td>C/A</td>\n",
       "      <td>...</td>\n",
       "      <td>NaN</td>\n",
       "      <td>NaN</td>\n",
       "      <td>NaN</td>\n",
       "      <td>0.3060</td>\n",
       "      <td>0.55</td>\n",
       "      <td>0.40</td>\n",
       "      <td>NaN</td>\n",
       "      <td>NaN</td>\n",
       "      <td>NaN</td>\n",
       "      <td>NaN</td>\n",
       "    </tr>\n",
       "    <tr>\n",
       "      <th>1</th>\n",
       "      <td>DEN</td>\n",
       "      <td>T34</td>\n",
       "      <td>PTPRB</td>\n",
       "      <td>A/G</td>\n",
       "      <td>missense_variant</td>\n",
       "      <td>Act/Gct</td>\n",
       "      <td>T175A</td>\n",
       "      <td>chr10:116314008-116314008</td>\n",
       "      <td>chr12:70596133-70596133</td>\n",
       "      <td>T/G</td>\n",
       "      <td>...</td>\n",
       "      <td>NaN</td>\n",
       "      <td>NaN</td>\n",
       "      <td>NaN</td>\n",
       "      <td>0.3836</td>\n",
       "      <td>0.60</td>\n",
       "      <td>0.35</td>\n",
       "      <td>NaN</td>\n",
       "      <td>NaN</td>\n",
       "      <td>NaN</td>\n",
       "      <td>NaN</td>\n",
       "    </tr>\n",
       "    <tr>\n",
       "      <th>2</th>\n",
       "      <td>STAM</td>\n",
       "      <td>J756T1</td>\n",
       "      <td>PTPRB</td>\n",
       "      <td>G/A</td>\n",
       "      <td>missense_variant</td>\n",
       "      <td>Gaa/Aaa</td>\n",
       "      <td>E231K</td>\n",
       "      <td>chr10:116315125-116315125</td>\n",
       "      <td>chr12:70594641-70594641</td>\n",
       "      <td>C/A</td>\n",
       "      <td>...</td>\n",
       "      <td>NaN</td>\n",
       "      <td>NaN</td>\n",
       "      <td>NaN</td>\n",
       "      <td>NaN</td>\n",
       "      <td>NaN</td>\n",
       "      <td>0.50</td>\n",
       "      <td>NaN</td>\n",
       "      <td>NaN</td>\n",
       "      <td>NaN</td>\n",
       "      <td>NaN</td>\n",
       "    </tr>\n",
       "    <tr>\n",
       "      <th>3</th>\n",
       "      <td>STAM</td>\n",
       "      <td>J756T3</td>\n",
       "      <td>PTPRB</td>\n",
       "      <td>C/T</td>\n",
       "      <td>missense_variant</td>\n",
       "      <td>cCt/cTt</td>\n",
       "      <td>P263L</td>\n",
       "      <td>chr10:116315222-116315222</td>\n",
       "      <td>chr12:70594544-70594544</td>\n",
       "      <td>G/T</td>\n",
       "      <td>...</td>\n",
       "      <td>NaN</td>\n",
       "      <td>NaN</td>\n",
       "      <td>NaN</td>\n",
       "      <td>0.4550</td>\n",
       "      <td>0.65</td>\n",
       "      <td>0.35</td>\n",
       "      <td>NaN</td>\n",
       "      <td>NaN</td>\n",
       "      <td>NaN</td>\n",
       "      <td>NaN</td>\n",
       "    </tr>\n",
       "    <tr>\n",
       "      <th>4</th>\n",
       "      <td>STAM</td>\n",
       "      <td>J757_T1_S6</td>\n",
       "      <td>PTPRB</td>\n",
       "      <td>G/A</td>\n",
       "      <td>missense_variant</td>\n",
       "      <td>Ggg/Agg</td>\n",
       "      <td>G329R</td>\n",
       "      <td>chr10:116317485-116317485</td>\n",
       "      <td>chr12:70592426-70592426</td>\n",
       "      <td>C/A</td>\n",
       "      <td>...</td>\n",
       "      <td>NaN</td>\n",
       "      <td>NaN</td>\n",
       "      <td>NaN</td>\n",
       "      <td>0.2350</td>\n",
       "      <td>0.45</td>\n",
       "      <td>0.35</td>\n",
       "      <td>NaN</td>\n",
       "      <td>NaN</td>\n",
       "      <td>NaN</td>\n",
       "      <td>NaN</td>\n",
       "    </tr>\n",
       "  </tbody>\n",
       "</table>\n",
       "<p>5 rows × 32 columns</p>\n",
       "</div>"
      ],
      "text/plain": [
       "  MODEL      SAMPLE SYMBOL  Mut mouse_Consequence mouse_Codons  \\\n",
       "0   DEN         T19  PTPRB  G/A  missense_variant      aGc/aAc   \n",
       "1   DEN         T34  PTPRB  A/G  missense_variant      Act/Gct   \n",
       "2  STAM      J756T1  PTPRB  G/A  missense_variant      Gaa/Aaa   \n",
       "3  STAM      J756T3  PTPRB  C/T  missense_variant      cCt/cTt   \n",
       "4  STAM  J757_T1_S6  PTPRB  G/A  missense_variant      Ggg/Agg   \n",
       "\n",
       "  mouse_AA_change                   mm10_Pos                 hg38_Pos  \\\n",
       "0            S38N  chr10:116302166-116302166  chr12:70609281-70609281   \n",
       "1           T175A  chr10:116314008-116314008  chr12:70596133-70596133   \n",
       "2           E231K  chr10:116315125-116315125  chr12:70594641-70594641   \n",
       "3           P263L  chr10:116315222-116315222  chr12:70594544-70594544   \n",
       "4           G329R  chr10:116317485-116317485  chr12:70592426-70592426   \n",
       "\n",
       "  human_Mut  ...   VEST_score_(stop_loss) VEST_score_(splice_site)  \\\n",
       "0       C/A  ...                      NaN                      NaN   \n",
       "1       T/G  ...                      NaN                      NaN   \n",
       "2       C/A  ...                      NaN                      NaN   \n",
       "3       G/T  ...                      NaN                      NaN   \n",
       "4       C/A  ...                      NaN                      NaN   \n",
       "\n",
       "  COSMIC_variant_count CHASM_p_value  CHASM_FDR VEST_FDR CGL_driver_class  \\\n",
       "0                  NaN        0.3060       0.55     0.40              NaN   \n",
       "1                  NaN        0.3836       0.60     0.35              NaN   \n",
       "2                  NaN           NaN        NaN     0.50              NaN   \n",
       "3                  NaN        0.4550       0.65     0.35              NaN   \n",
       "4                  NaN        0.2350       0.45     0.35              NaN   \n",
       "\n",
       "   ClinVar  COSMIC_ID  dbSNP  \n",
       "0      NaN        NaN    NaN  \n",
       "1      NaN        NaN    NaN  \n",
       "2      NaN        NaN    NaN  \n",
       "3      NaN        NaN    NaN  \n",
       "4      NaN        NaN    NaN  \n",
       "\n",
       "[5 rows x 32 columns]"
      ]
     },
     "execution_count": 87,
     "metadata": {},
     "output_type": "execute_result"
    }
   ],
   "source": [
    "chasm_scores.head()"
   ]
  },
  {
   "cell_type": "code",
   "execution_count": 136,
   "metadata": {},
   "outputs": [
    {
     "name": "stdout",
     "output_type": "stream",
     "text": [
      "(1539, 33) (139, 33)\n"
     ]
    }
   ],
   "source": [
    "thres = 0.75\n",
    "m1 = chasm_scores.CHASM_score > thres\n",
    "print chasm_scores.shape, chasm_scores[m1].shape\n",
    "chasm_scores['Location'] = chasm_scores.mm10_Pos\n",
    "chasm_drivers = chasm_scores[m1].reset_index(drop=True)"
   ]
  },
  {
   "cell_type": "code",
   "execution_count": null,
   "metadata": {
    "collapsed": true
   },
   "outputs": [],
   "source": []
  },
  {
   "cell_type": "code",
   "execution_count": 137,
   "metadata": {},
   "outputs": [
    {
     "name": "stdout",
     "output_type": "stream",
     "text": [
      "(139, 33)\n"
     ]
    }
   ],
   "source": [
    "print chasm_drivers.shape"
   ]
  },
  {
   "cell_type": "code",
   "execution_count": 90,
   "metadata": {},
   "outputs": [],
   "source": [
    "#chasm_drivers.CGL_driver_class.value_counts()\n",
    "\n",
    "#chasm_drivers[chasm_drivers.SYMBOL == 'TP53'].Location"
   ]
  },
  {
   "cell_type": "markdown",
   "metadata": {},
   "source": [
    "## Orthologous mutations"
   ]
  },
  {
   "cell_type": "code",
   "execution_count": 92,
   "metadata": {},
   "outputs": [],
   "source": [
    "#ortDir= '/cellar/users/mdow/Projects/HCC/DNA_analysis/Mutation_codon/'\n",
    "#ort = pd.read_csv(ortDir+'mouse_hcc_mutation_ortholog.csv',index_col=0)\n",
    "\n",
    "#print chasm_drivers.shape, ort[ort.human_mut_position.isin(chasm_drivers.human_position)].shape"
   ]
  },
  {
   "cell_type": "code",
   "execution_count": 96,
   "metadata": {},
   "outputs": [
    {
     "data": {
      "text/plain": [
       "\"ort_driver_chasm = ort[ort.human_mut_position.isin(chasm_drivers.hg38_Pos)]\\nort_driver_chasm = ort[ort.human_mut_position.isin(chasm_drivers.Location)]\\n\\nprint ort_driver_chasm.shape\\n\\nlocationToFDR = chasm_drivers.set_index(['Location'])['CHASM_FDR'].to_dict()\\nlocationToFDR_vest = chasm_drivers.set_index(['Location'])['VEST_FDR'].to_dict()\\n\\nort_driver_chasm['CHASM_FDR']=ort_driver_chasm.human_mut_position.map(locationToFDR)\\nort_driver_chasm['VEST_FDR']=ort_driver_chasm.human_mut_position.map(locationToFDR_vest)\""
      ]
     },
     "execution_count": 96,
     "metadata": {},
     "output_type": "execute_result"
    }
   ],
   "source": [
    "# No need for a separate table\n",
    "'''ort_driver_chasm = ort[ort.human_mut_position.isin(chasm_drivers.hg38_Pos)]\n",
    "ort_driver_chasm = ort[ort.human_mut_position.isin(chasm_drivers.Location)]\n",
    "\n",
    "print ort_driver_chasm.shape\n",
    "\n",
    "locationToFDR = chasm_drivers.set_index(['Location'])['CHASM_FDR'].to_dict()\n",
    "locationToFDR_vest = chasm_drivers.set_index(['Location'])['VEST_FDR'].to_dict()\n",
    "\n",
    "ort_driver_chasm['CHASM_FDR']=ort_driver_chasm.human_mut_position.map(locationToFDR)\n",
    "ort_driver_chasm['VEST_FDR']=ort_driver_chasm.human_mut_position.map(locationToFDR_vest)'''"
   ]
  },
  {
   "cell_type": "code",
   "execution_count": 120,
   "metadata": {},
   "outputs": [
    {
     "data": {
      "text/html": [
       "<div>\n",
       "<style scoped>\n",
       "    .dataframe tbody tr th:only-of-type {\n",
       "        vertical-align: middle;\n",
       "    }\n",
       "\n",
       "    .dataframe tbody tr th {\n",
       "        vertical-align: top;\n",
       "    }\n",
       "\n",
       "    .dataframe thead th {\n",
       "        text-align: right;\n",
       "    }\n",
       "</style>\n",
       "<table border=\"1\" class=\"dataframe\">\n",
       "  <thead>\n",
       "    <tr style=\"text-align: right;\">\n",
       "      <th></th>\n",
       "      <th>MODEL</th>\n",
       "      <th>SAMPLE</th>\n",
       "      <th>SYMBOL</th>\n",
       "      <th>Mut</th>\n",
       "      <th>mouse_Consequence</th>\n",
       "      <th>mouse_Codons</th>\n",
       "      <th>mouse_AA_change</th>\n",
       "      <th>mm10_Pos</th>\n",
       "      <th>hg38_Pos</th>\n",
       "      <th>human_Mut</th>\n",
       "      <th>...</th>\n",
       "      <th>VEST_score_(splice_site)</th>\n",
       "      <th>COSMIC_variant_count</th>\n",
       "      <th>CHASM_p_value</th>\n",
       "      <th>CHASM_FDR</th>\n",
       "      <th>VEST_FDR</th>\n",
       "      <th>CGL_driver_class</th>\n",
       "      <th>ClinVar</th>\n",
       "      <th>COSMIC_ID</th>\n",
       "      <th>dbSNP</th>\n",
       "      <th>Location</th>\n",
       "    </tr>\n",
       "  </thead>\n",
       "  <tbody>\n",
       "    <tr>\n",
       "      <th>0</th>\n",
       "      <td>STAM</td>\n",
       "      <td>J758T3</td>\n",
       "      <td>TNFAIP3</td>\n",
       "      <td>C/T</td>\n",
       "      <td>missense_variant</td>\n",
       "      <td>gGt/gAt</td>\n",
       "      <td>G230D</td>\n",
       "      <td>chr10:19006979-19006979</td>\n",
       "      <td>chr6:137876050-137876050</td>\n",
       "      <td>G/T</td>\n",
       "      <td>...</td>\n",
       "      <td>NaN</td>\n",
       "      <td>NaN</td>\n",
       "      <td>0.0038</td>\n",
       "      <td>0.15</td>\n",
       "      <td>0.1</td>\n",
       "      <td>TSG</td>\n",
       "      <td>NaN</td>\n",
       "      <td>NaN</td>\n",
       "      <td>NaN</td>\n",
       "      <td>chr10:19006979-19006979</td>\n",
       "    </tr>\n",
       "    <tr>\n",
       "      <th>1</th>\n",
       "      <td>DEN</td>\n",
       "      <td>T89</td>\n",
       "      <td>TNFAIP3</td>\n",
       "      <td>G/T</td>\n",
       "      <td>missense_variant</td>\n",
       "      <td>cCa/cAa</td>\n",
       "      <td>P26Q</td>\n",
       "      <td>chr10:19011699-19011699</td>\n",
       "      <td>chr6:137871304-137871304</td>\n",
       "      <td>C/T</td>\n",
       "      <td>...</td>\n",
       "      <td>NaN</td>\n",
       "      <td>NaN</td>\n",
       "      <td>0.0060</td>\n",
       "      <td>0.15</td>\n",
       "      <td>0.1</td>\n",
       "      <td>TSG</td>\n",
       "      <td>NaN</td>\n",
       "      <td>NaN</td>\n",
       "      <td>NaN</td>\n",
       "      <td>chr10:19011699-19011699</td>\n",
       "    </tr>\n",
       "    <tr>\n",
       "      <th>2</th>\n",
       "      <td>STAM</td>\n",
       "      <td>J759T4</td>\n",
       "      <td>PRDM1</td>\n",
       "      <td>G/A</td>\n",
       "      <td>missense_variant</td>\n",
       "      <td>Cca/Tca</td>\n",
       "      <td>P82S</td>\n",
       "      <td>chr10:44456669-44456669</td>\n",
       "      <td>chr6:106088408-106088408</td>\n",
       "      <td>C/A</td>\n",
       "      <td>...</td>\n",
       "      <td>NaN</td>\n",
       "      <td>1.0</td>\n",
       "      <td>0.0102</td>\n",
       "      <td>0.15</td>\n",
       "      <td>0.1</td>\n",
       "      <td>TSG</td>\n",
       "      <td>NaN</td>\n",
       "      <td>COSM97170</td>\n",
       "      <td>NaN</td>\n",
       "      <td>chr10:44456669-44456669</td>\n",
       "    </tr>\n",
       "    <tr>\n",
       "      <th>3</th>\n",
       "      <td>DEN</td>\n",
       "      <td>T62</td>\n",
       "      <td>STK11</td>\n",
       "      <td>T/A</td>\n",
       "      <td>missense_variant</td>\n",
       "      <td>cTg/cAg</td>\n",
       "      <td>L140Q</td>\n",
       "      <td>chr10:80125523-80125523</td>\n",
       "      <td>chr19:1219368-1219368</td>\n",
       "      <td>T/A</td>\n",
       "      <td>...</td>\n",
       "      <td>NaN</td>\n",
       "      <td>NaN</td>\n",
       "      <td>0.0002</td>\n",
       "      <td>0.05</td>\n",
       "      <td>0.1</td>\n",
       "      <td>TSG</td>\n",
       "      <td>NaN</td>\n",
       "      <td>NaN</td>\n",
       "      <td>NaN</td>\n",
       "      <td>chr10:80125523-80125523</td>\n",
       "    </tr>\n",
       "    <tr>\n",
       "      <th>4</th>\n",
       "      <td>STAM</td>\n",
       "      <td>J756T8</td>\n",
       "      <td>STK11</td>\n",
       "      <td>G/A</td>\n",
       "      <td>missense_variant</td>\n",
       "      <td>gGc/gAc</td>\n",
       "      <td>G163D</td>\n",
       "      <td>chr10:80126056-80126056</td>\n",
       "      <td>chr19:1220396-1220396</td>\n",
       "      <td>G/A</td>\n",
       "      <td>...</td>\n",
       "      <td>NaN</td>\n",
       "      <td>1.0</td>\n",
       "      <td>0.0000</td>\n",
       "      <td>0.05</td>\n",
       "      <td>0.1</td>\n",
       "      <td>TSG</td>\n",
       "      <td>Pathogenic</td>\n",
       "      <td>COSM21352</td>\n",
       "      <td>rs137853078</td>\n",
       "      <td>chr10:80126056-80126056</td>\n",
       "    </tr>\n",
       "  </tbody>\n",
       "</table>\n",
       "<p>5 rows × 33 columns</p>\n",
       "</div>"
      ],
      "text/plain": [
       "  MODEL  SAMPLE   SYMBOL  Mut mouse_Consequence mouse_Codons mouse_AA_change  \\\n",
       "0  STAM  J758T3  TNFAIP3  C/T  missense_variant      gGt/gAt           G230D   \n",
       "1   DEN     T89  TNFAIP3  G/T  missense_variant      cCa/cAa            P26Q   \n",
       "2  STAM  J759T4    PRDM1  G/A  missense_variant      Cca/Tca            P82S   \n",
       "3   DEN     T62    STK11  T/A  missense_variant      cTg/cAg           L140Q   \n",
       "4  STAM  J756T8    STK11  G/A  missense_variant      gGc/gAc           G163D   \n",
       "\n",
       "                  mm10_Pos                  hg38_Pos human_Mut  \\\n",
       "0  chr10:19006979-19006979  chr6:137876050-137876050       G/T   \n",
       "1  chr10:19011699-19011699  chr6:137871304-137871304       C/T   \n",
       "2  chr10:44456669-44456669  chr6:106088408-106088408       C/A   \n",
       "3  chr10:80125523-80125523     chr19:1219368-1219368       T/A   \n",
       "4  chr10:80126056-80126056     chr19:1220396-1220396       G/A   \n",
       "\n",
       "            ...            VEST_score_(splice_site) COSMIC_variant_count  \\\n",
       "0           ...                                 NaN                  NaN   \n",
       "1           ...                                 NaN                  NaN   \n",
       "2           ...                                 NaN                  1.0   \n",
       "3           ...                                 NaN                  NaN   \n",
       "4           ...                                 NaN                  1.0   \n",
       "\n",
       "  CHASM_p_value CHASM_FDR  VEST_FDR CGL_driver_class     ClinVar  COSMIC_ID  \\\n",
       "0        0.0038      0.15       0.1              TSG         NaN        NaN   \n",
       "1        0.0060      0.15       0.1              TSG         NaN        NaN   \n",
       "2        0.0102      0.15       0.1              TSG         NaN  COSM97170   \n",
       "3        0.0002      0.05       0.1              TSG         NaN        NaN   \n",
       "4        0.0000      0.05       0.1              TSG  Pathogenic  COSM21352   \n",
       "\n",
       "         dbSNP                 Location  \n",
       "0          NaN  chr10:19006979-19006979  \n",
       "1          NaN  chr10:19011699-19011699  \n",
       "2          NaN  chr10:44456669-44456669  \n",
       "3          NaN  chr10:80125523-80125523  \n",
       "4  rs137853078  chr10:80126056-80126056  \n",
       "\n",
       "[5 rows x 33 columns]"
      ]
     },
     "execution_count": 120,
     "metadata": {},
     "output_type": "execute_result"
    }
   ],
   "source": [
    "chasm_drivers.head()"
   ]
  },
  {
   "cell_type": "code",
   "execution_count": 138,
   "metadata": {},
   "outputs": [],
   "source": [
    "chasm_drivers['Location'] = chasm_drivers.mm10_Pos.str[3:]"
   ]
  },
  {
   "cell_type": "markdown",
   "metadata": {},
   "source": [
    "### This needs cleaning up..."
   ]
  },
  {
   "cell_type": "code",
   "execution_count": 139,
   "metadata": {},
   "outputs": [
    {
     "name": "stdout",
     "output_type": "stream",
     "text": [
      "(139, 39)\n"
     ]
    }
   ],
   "source": [
    "mouse_chasm = mouse[mouse.Location.isin(chasm_drivers.mm10_Pos.str[3:])]\n",
    "print mouse_chasm.shape\n",
    "#mouse[mouse.Uploaded_variation.isin(chasm.Mutation)].shape\n",
    "\n",
    "#mouseToHumanPos = ort_driver_chasm.set_index(['mouse_mut_position'])['human_mut_position'].to_dict()\n"
   ]
  },
  {
   "cell_type": "code",
   "execution_count": 140,
   "metadata": {
    "collapsed": true
   },
   "outputs": [],
   "source": [
    "locationToFDR = chasm_drivers.set_index(['Location'])['CHASM_FDR'].to_dict()\n",
    "locationToFDR_vest = chasm_drivers.set_index(['Location'])['VEST_FDR'].to_dict()"
   ]
  },
  {
   "cell_type": "code",
   "execution_count": null,
   "metadata": {
    "collapsed": true
   },
   "outputs": [],
   "source": []
  },
  {
   "cell_type": "code",
   "execution_count": 141,
   "metadata": {},
   "outputs": [
    {
     "name": "stderr",
     "output_type": "stream",
     "text": [
      "/cellar/users/mdow/anaconda2/lib/python2.7/site-packages/ipykernel/__main__.py:2: SettingWithCopyWarning: \n",
      "A value is trying to be set on a copy of a slice from a DataFrame.\n",
      "Try using .loc[row_indexer,col_indexer] = value instead\n",
      "\n",
      "See the caveats in the documentation: http://pandas.pydata.org/pandas-docs/stable/indexing.html#indexing-view-versus-copy\n",
      "  from ipykernel import kernelapp as app\n",
      "/cellar/users/mdow/anaconda2/lib/python2.7/site-packages/ipykernel/__main__.py:7: SettingWithCopyWarning: \n",
      "A value is trying to be set on a copy of a slice from a DataFrame.\n",
      "Try using .loc[row_indexer,col_indexer] = value instead\n",
      "\n",
      "See the caveats in the documentation: http://pandas.pydata.org/pandas-docs/stable/indexing.html#indexing-view-versus-copy\n",
      "/cellar/users/mdow/anaconda2/lib/python2.7/site-packages/ipykernel/__main__.py:8: SettingWithCopyWarning: \n",
      "A value is trying to be set on a copy of a slice from a DataFrame.\n",
      "Try using .loc[row_indexer,col_indexer] = value instead\n",
      "\n",
      "See the caveats in the documentation: http://pandas.pydata.org/pandas-docs/stable/indexing.html#indexing-view-versus-copy\n"
     ]
    },
    {
     "data": {
      "text/plain": [
       "((56, 57), (56, 57))"
      ]
     },
     "execution_count": 141,
     "metadata": {},
     "output_type": "execute_result"
    }
   ],
   "source": [
    "\n",
    "mouse_chasm['mouse_mut_position'] = 'chr'+mouse_chasm.Location\n",
    "\n",
    "#mouse_chasm['CHASM_FDR'] = mouse_chasm.mouse_mut_position.map(mouseToHumanPos).map(locationToFDR)\n",
    "#mouse_chasm['VEST_FDR'] = mouse_chasm.mouse_mut_position.map(mouseToHumanPos).map(locationToFDR_vest)\n",
    "\n",
    "mouse_chasm['CHASM_FDR'] = mouse_chasm.Location.map(locationToFDR)\n",
    "mouse_chasm['VEST_FDR'] = mouse_chasm.Location.map(locationToFDR_vest)\n",
    "\n",
    "\n",
    "mouse_chasm_S = mouse_chasm[['MODEL','SAMPLE','SYMBOL','CHASM_FDR','VEST_FDR']].drop_duplicates().reset_index(drop=True)\n",
    "\n",
    "mouse_chasm_merged = pd.merge(mouse_empty,mouse_chasm_S,how='left').fillna(1)\n",
    "\n",
    "mouse_chasm_merged.SAMPLE.nunique()\n",
    "\n",
    "mouse_chasm_uS = mouse_chasm_merged.groupby(['SAMPLE','SYMBOL']).CHASM_FDR.first().unstack().fillna(1)\n",
    "mouse_vest_uS = mouse_chasm_merged.groupby(['SAMPLE','SYMBOL']).VEST_FDR.first().unstack().fillna(1)\n",
    "\n",
    "mouse_chasm_uS.shape, mouse_vest_uS.shape"
   ]
  },
  {
   "cell_type": "code",
   "execution_count": null,
   "metadata": {
    "collapsed": true
   },
   "outputs": [],
   "source": []
  },
  {
   "cell_type": "code",
   "execution_count": 142,
   "metadata": {
    "collapsed": true
   },
   "outputs": [],
   "source": [
    "mouse_chasm_uS.to_pickle('mouse_chasm_fdr_score.pkl')\n",
    "mouse_vest_uS.to_pickle('mouse_vest_fdr_score.pkl')"
   ]
  },
  {
   "cell_type": "code",
   "execution_count": 143,
   "metadata": {},
   "outputs": [
    {
     "name": "stdout",
     "output_type": "stream",
     "text": [
      "Mouse\n",
      "(133, 4)\n",
      "133\n",
      "133\n",
      "56\n",
      "(56, 57)\n"
     ]
    }
   ],
   "source": [
    "inCols = ['MODEL','SAMPLE','SYMBOL','Consequence']\n",
    "\n",
    "mouse_sub= mouse_chasm[inCols].drop_duplicates().reset_index(drop=True)\n",
    "\n",
    "print 'Mouse'\n",
    "mouse_score = get_dfScore_new(mouse_sub)\n",
    "\n",
    "mouse_merged = pd.merge(mouse_empty,mouse_score,how='left').fillna(0)\n",
    "\n",
    "print mouse_merged.SAMPLE.nunique()\n",
    "\n",
    "mouse_uS = mouse_merged.groupby(['SAMPLE','SYMBOL']).Score.first().unstack().fillna(0)\n",
    "\n",
    "print mouse_uS.shape\n",
    "\n",
    "mouse_uS.to_pickle('mouse_chasm_mutation_score.pkl')"
   ]
  },
  {
   "cell_type": "code",
   "execution_count": 144,
   "metadata": {},
   "outputs": [
    {
     "data": {
      "text/plain": [
       "Index([         0,    u'ABL1',     u'ALK',  u'ARID1B',   u'ARID2',     u'ATM',\n",
       "          u'BCOR',    u'BRAF',   u'BRCA1',   u'BRCA2',     u'BTK',     u'CBL',\n",
       "         u'CDK12',  u'CDKN2A',  u'CREBBP',  u'CTNNB1',    u'CYLD',    u'DDR2',\n",
       "          u'EGFR',   u'ERBB2',   u'FGFR2',   u'FGFR4',    u'FLT3',    u'HRAS',\n",
       "         u'KAT6A',   u'KDM6A',     u'KDR',   u'KMT2C',    u'KRAS',  u'MAP2K4',\n",
       "       u'MAP3K13',   u'MED12',    u'MITF',    u'MLH1',    u'MSH2',    u'MSH6',\n",
       "          u'MTOR',   u'NCOR1',     u'NF2',    u'NRAS',  u'PDGFRA',  u'PIK3CA',\n",
       "         u'PRDM1',   u'PTCH1',    u'PTEN',   u'PTPRT',     u'RET',   u'SF3B1',\n",
       "       u'SMARCA4',     u'SMO',     u'SRC',   u'STAT3',   u'STK11', u'TNFAIP3',\n",
       "          u'TP63',   u'TRRAP',    u'TSC2'],\n",
       "      dtype='object', name=u'SYMBOL')"
      ]
     },
     "execution_count": 144,
     "metadata": {},
     "output_type": "execute_result"
    }
   ],
   "source": [
    "mouse_uS.columns"
   ]
  },
  {
   "cell_type": "code",
   "execution_count": 145,
   "metadata": {},
   "outputs": [
    {
     "data": {
      "text/plain": [
       "(151, 5)"
      ]
     },
     "execution_count": 145,
     "metadata": {},
     "output_type": "execute_result"
    }
   ],
   "source": [
    "mouse_merged.shape"
   ]
  },
  {
   "cell_type": "code",
   "execution_count": 146,
   "metadata": {},
   "outputs": [
    {
     "data": {
      "text/plain": [
       "4.0    131\n",
       "0.0     18\n",
       "3.0      2\n",
       "Name: Score, dtype: int64"
      ]
     },
     "execution_count": 146,
     "metadata": {},
     "output_type": "execute_result"
    }
   ],
   "source": [
    "mouse_merged.Score.value_counts()"
   ]
  },
  {
   "cell_type": "code",
   "execution_count": 147,
   "metadata": {},
   "outputs": [
    {
     "data": {
      "text/plain": [
       "4.0    131\n",
       "0.0     18\n",
       "3.0      2\n",
       "Name: Score, dtype: int64"
      ]
     },
     "execution_count": 147,
     "metadata": {},
     "output_type": "execute_result"
    }
   ],
   "source": [
    "mouse_merged.Score.value_counts()"
   ]
  },
  {
   "cell_type": "code",
   "execution_count": null,
   "metadata": {
    "collapsed": true
   },
   "outputs": [],
   "source": []
  },
  {
   "cell_type": "code",
   "execution_count": 37,
   "metadata": {},
   "outputs": [],
   "source": [
    "'''test = pd.read_csv('cut_FDR_scores')\n",
    "\n",
    "test['Mut_mis'] = test.SAMPLE.astype(str) + '-' + test.SYMBOL.astype(str) + '-' + test.Consequence.astype(str)  + '-' + test.Score.astype(str)\n",
    "\n",
    "mouse_merged['Mut_mis'] = mouse_merged.SAMPLE.astype(str) + '-' + mouse_merged.SYMBOL.astype(str) + '-' + mouse_merged.Consequence.astype(str)  + '-' + mouse_merged.Score.astype(str)'''"
   ]
  },
  {
   "cell_type": "markdown",
   "metadata": {
    "collapsed": true
   },
   "source": [
    "## Add back the non-missense mutations"
   ]
  },
  {
   "cell_type": "code",
   "execution_count": 223,
   "metadata": {},
   "outputs": [
    {
     "data": {
      "text/plain": [
       "((4927, 5), (151, 5), (4776, 4))"
      ]
     },
     "execution_count": 223,
     "metadata": {},
     "output_type": "execute_result"
    }
   ],
   "source": [
    "mouse_uS_all = pd.read_pickle('mouse_mutation_score.pkl')\n",
    "\n",
    "mouse_sub = mouse_uS_all#.loc[:,mouse_uS_all.columns.isin(mouse_merged.SYMBOL.tolist())]#mouse_uS.shape, mouse_uS_all.shape\n",
    "mouse_sub = mouse_sub.stack().reset_index(name='Score')\n",
    "\n",
    "mouse_nonMis = mouse_sub[~mouse_sub.Score.isin([0,4])].reset_index(drop=True)\n",
    "\n",
    "mouse_nonMis['Consequence'] = 'Non-missense'\n",
    "\n",
    "mouse_add = pd.concat([mouse_merged,mouse_nonMis])\n",
    "\n",
    "mouse_add.shape, mouse_merged.shape, mouse_nonMis.shape"
   ]
  },
  {
   "cell_type": "code",
   "execution_count": 224,
   "metadata": {},
   "outputs": [
    {
     "data": {
      "text/plain": [
       "array(['missense_variant', 0, 'stop_gained',\n",
       "       'missense_variant,splice_region_variant', 'Non-missense'], dtype=object)"
      ]
     },
     "execution_count": 224,
     "metadata": {},
     "output_type": "execute_result"
    }
   ],
   "source": [
    "mouse_add.Consequence.unique()"
   ]
  },
  {
   "cell_type": "code",
   "execution_count": 225,
   "metadata": {},
   "outputs": [
    {
     "data": {
      "text/html": [
       "<div>\n",
       "<style scoped>\n",
       "    .dataframe tbody tr th:only-of-type {\n",
       "        vertical-align: middle;\n",
       "    }\n",
       "\n",
       "    .dataframe tbody tr th {\n",
       "        vertical-align: top;\n",
       "    }\n",
       "\n",
       "    .dataframe thead th {\n",
       "        text-align: right;\n",
       "    }\n",
       "</style>\n",
       "<table border=\"1\" class=\"dataframe\">\n",
       "  <thead>\n",
       "    <tr style=\"text-align: right;\">\n",
       "      <th></th>\n",
       "      <th>Consequence</th>\n",
       "      <th>MODEL</th>\n",
       "      <th>SAMPLE</th>\n",
       "      <th>SYMBOL</th>\n",
       "      <th>Score</th>\n",
       "    </tr>\n",
       "  </thead>\n",
       "  <tbody>\n",
       "    <tr>\n",
       "      <th>0</th>\n",
       "      <td>missense_variant</td>\n",
       "      <td>DEN</td>\n",
       "      <td>T19</td>\n",
       "      <td>TSC2</td>\n",
       "      <td>4.0</td>\n",
       "    </tr>\n",
       "    <tr>\n",
       "      <th>1</th>\n",
       "      <td>missense_variant</td>\n",
       "      <td>DEN</td>\n",
       "      <td>T19</td>\n",
       "      <td>PTEN</td>\n",
       "      <td>4.0</td>\n",
       "    </tr>\n",
       "    <tr>\n",
       "      <th>2</th>\n",
       "      <td>missense_variant</td>\n",
       "      <td>DEN</td>\n",
       "      <td>T19</td>\n",
       "      <td>BRAF</td>\n",
       "      <td>4.0</td>\n",
       "    </tr>\n",
       "    <tr>\n",
       "      <th>3</th>\n",
       "      <td>missense_variant</td>\n",
       "      <td>DEN</td>\n",
       "      <td>T20</td>\n",
       "      <td>MSH6</td>\n",
       "      <td>4.0</td>\n",
       "    </tr>\n",
       "    <tr>\n",
       "      <th>4</th>\n",
       "      <td>missense_variant</td>\n",
       "      <td>DEN</td>\n",
       "      <td>T20</td>\n",
       "      <td>BRAF</td>\n",
       "      <td>4.0</td>\n",
       "    </tr>\n",
       "  </tbody>\n",
       "</table>\n",
       "</div>"
      ],
      "text/plain": [
       "        Consequence MODEL SAMPLE SYMBOL  Score\n",
       "0  missense_variant   DEN    T19   TSC2    4.0\n",
       "1  missense_variant   DEN    T19   PTEN    4.0\n",
       "2  missense_variant   DEN    T19   BRAF    4.0\n",
       "3  missense_variant   DEN    T20   MSH6    4.0\n",
       "4  missense_variant   DEN    T20   BRAF    4.0"
      ]
     },
     "execution_count": 225,
     "metadata": {},
     "output_type": "execute_result"
    }
   ],
   "source": [
    "mouse_add.head()"
   ]
  },
  {
   "cell_type": "code",
   "execution_count": 226,
   "metadata": {},
   "outputs": [],
   "source": [
    "# BRAF in STAM is a splice and missense at J750_T1_S2\n",
    "m1 = mouse_add.SYMBOL == 'BRAF'\n",
    "m2 = mouse_add.MODEL == 'STAM'\n",
    "\n",
    "tmp_dict = {'Consequence':'splice_region_variant','MODEL':'STAM','SAMPLE':'J750_T1_S2','SYMBOL':'BRAF','Score':2}\n",
    "tmp = pd.DataFrame([tmp_dict.values()], columns=tmp_dict.keys())"
   ]
  },
  {
   "cell_type": "code",
   "execution_count": 227,
   "metadata": {},
   "outputs": [
    {
     "data": {
      "text/html": [
       "<div>\n",
       "<style scoped>\n",
       "    .dataframe tbody tr th:only-of-type {\n",
       "        vertical-align: middle;\n",
       "    }\n",
       "\n",
       "    .dataframe tbody tr th {\n",
       "        vertical-align: top;\n",
       "    }\n",
       "\n",
       "    .dataframe thead th {\n",
       "        text-align: right;\n",
       "    }\n",
       "</style>\n",
       "<table border=\"1\" class=\"dataframe\">\n",
       "  <thead>\n",
       "    <tr style=\"text-align: right;\">\n",
       "      <th></th>\n",
       "      <th>Consequence</th>\n",
       "      <th>SAMPLE</th>\n",
       "      <th>MODEL</th>\n",
       "      <th>Score</th>\n",
       "      <th>SYMBOL</th>\n",
       "    </tr>\n",
       "  </thead>\n",
       "  <tbody>\n",
       "    <tr>\n",
       "      <th>0</th>\n",
       "      <td>splice_region_variant</td>\n",
       "      <td>J750_T1_S2</td>\n",
       "      <td>STAM</td>\n",
       "      <td>2</td>\n",
       "      <td>BRAF</td>\n",
       "    </tr>\n",
       "  </tbody>\n",
       "</table>\n",
       "</div>"
      ],
      "text/plain": [
       "             Consequence      SAMPLE MODEL  Score SYMBOL\n",
       "0  splice_region_variant  J750_T1_S2  STAM      2   BRAF"
      ]
     },
     "execution_count": 227,
     "metadata": {},
     "output_type": "execute_result"
    }
   ],
   "source": [
    "tmp"
   ]
  },
  {
   "cell_type": "code",
   "execution_count": null,
   "metadata": {
    "collapsed": true
   },
   "outputs": [],
   "source": []
  },
  {
   "cell_type": "code",
   "execution_count": 164,
   "metadata": {
    "collapsed": true
   },
   "outputs": [],
   "source": [
    "mouse_add2 = pd.concat([mouse_add,tmp])"
   ]
  },
  {
   "cell_type": "code",
   "execution_count": 166,
   "metadata": {},
   "outputs": [
    {
     "data": {
      "text/plain": [
       "((183, 5), (184, 5))"
      ]
     },
     "execution_count": 166,
     "metadata": {},
     "output_type": "execute_result"
    }
   ],
   "source": [
    "mouse_add.shape, mouse_add2.shape"
   ]
  },
  {
   "cell_type": "code",
   "execution_count": null,
   "metadata": {
    "collapsed": true
   },
   "outputs": [],
   "source": []
  },
  {
   "cell_type": "code",
   "execution_count": 167,
   "metadata": {},
   "outputs": [
    {
     "name": "stdout",
     "output_type": "stream",
     "text": [
      "(56, 57)\n"
     ]
    }
   ],
   "source": [
    "mouse_uS_add = mouse_add.groupby(['SAMPLE','SYMBOL']).Score.first().unstack().fillna(0)\n",
    "\n",
    "print mouse_uS_add.shape\n",
    "\n",
    "mouse_uS_add.to_pickle('mouse_chasm_mutation_more_score.pkl')"
   ]
  },
  {
   "cell_type": "code",
   "execution_count": 175,
   "metadata": {},
   "outputs": [
    {
     "data": {
      "text/html": [
       "<div>\n",
       "<style scoped>\n",
       "    .dataframe tbody tr th:only-of-type {\n",
       "        vertical-align: middle;\n",
       "    }\n",
       "\n",
       "    .dataframe tbody tr th {\n",
       "        vertical-align: top;\n",
       "    }\n",
       "\n",
       "    .dataframe thead th {\n",
       "        text-align: right;\n",
       "    }\n",
       "</style>\n",
       "<table border=\"1\" class=\"dataframe\">\n",
       "  <thead>\n",
       "    <tr style=\"text-align: right;\">\n",
       "      <th>SYMBOL</th>\n",
       "      <th>0</th>\n",
       "      <th>ABL1</th>\n",
       "      <th>ALK</th>\n",
       "      <th>ARID1B</th>\n",
       "      <th>ARID2</th>\n",
       "      <th>ATM</th>\n",
       "      <th>BCOR</th>\n",
       "      <th>BRAF</th>\n",
       "      <th>BRCA1</th>\n",
       "      <th>BRCA2</th>\n",
       "      <th>...</th>\n",
       "      <th>SF3B1</th>\n",
       "      <th>SMARCA4</th>\n",
       "      <th>SMO</th>\n",
       "      <th>SRC</th>\n",
       "      <th>STAT3</th>\n",
       "      <th>STK11</th>\n",
       "      <th>TNFAIP3</th>\n",
       "      <th>TP63</th>\n",
       "      <th>TRRAP</th>\n",
       "      <th>TSC2</th>\n",
       "    </tr>\n",
       "    <tr>\n",
       "      <th>SAMPLE</th>\n",
       "      <th></th>\n",
       "      <th></th>\n",
       "      <th></th>\n",
       "      <th></th>\n",
       "      <th></th>\n",
       "      <th></th>\n",
       "      <th></th>\n",
       "      <th></th>\n",
       "      <th></th>\n",
       "      <th></th>\n",
       "      <th></th>\n",
       "      <th></th>\n",
       "      <th></th>\n",
       "      <th></th>\n",
       "      <th></th>\n",
       "      <th></th>\n",
       "      <th></th>\n",
       "      <th></th>\n",
       "      <th></th>\n",
       "      <th></th>\n",
       "      <th></th>\n",
       "    </tr>\n",
       "  </thead>\n",
       "  <tbody>\n",
       "    <tr>\n",
       "      <th>AT136T1</th>\n",
       "      <td>0.0</td>\n",
       "      <td>0.0</td>\n",
       "      <td>0.0</td>\n",
       "      <td>0.0</td>\n",
       "      <td>0.0</td>\n",
       "      <td>0.0</td>\n",
       "      <td>0.0</td>\n",
       "      <td>0.0</td>\n",
       "      <td>0.0</td>\n",
       "      <td>0.0</td>\n",
       "      <td>...</td>\n",
       "      <td>0.0</td>\n",
       "      <td>0.0</td>\n",
       "      <td>0.0</td>\n",
       "      <td>0.0</td>\n",
       "      <td>0.0</td>\n",
       "      <td>0.0</td>\n",
       "      <td>0.0</td>\n",
       "      <td>0.0</td>\n",
       "      <td>0.0</td>\n",
       "      <td>0.0</td>\n",
       "    </tr>\n",
       "    <tr>\n",
       "      <th>AT136T2</th>\n",
       "      <td>0.0</td>\n",
       "      <td>0.0</td>\n",
       "      <td>0.0</td>\n",
       "      <td>0.0</td>\n",
       "      <td>0.0</td>\n",
       "      <td>0.0</td>\n",
       "      <td>0.0</td>\n",
       "      <td>0.0</td>\n",
       "      <td>0.0</td>\n",
       "      <td>0.0</td>\n",
       "      <td>...</td>\n",
       "      <td>0.0</td>\n",
       "      <td>0.0</td>\n",
       "      <td>0.0</td>\n",
       "      <td>0.0</td>\n",
       "      <td>0.0</td>\n",
       "      <td>0.0</td>\n",
       "      <td>0.0</td>\n",
       "      <td>0.0</td>\n",
       "      <td>0.0</td>\n",
       "      <td>0.0</td>\n",
       "    </tr>\n",
       "    <tr>\n",
       "      <th>AT136T3</th>\n",
       "      <td>0.0</td>\n",
       "      <td>0.0</td>\n",
       "      <td>0.0</td>\n",
       "      <td>0.0</td>\n",
       "      <td>0.0</td>\n",
       "      <td>0.0</td>\n",
       "      <td>0.0</td>\n",
       "      <td>0.0</td>\n",
       "      <td>0.0</td>\n",
       "      <td>0.0</td>\n",
       "      <td>...</td>\n",
       "      <td>0.0</td>\n",
       "      <td>0.0</td>\n",
       "      <td>0.0</td>\n",
       "      <td>0.0</td>\n",
       "      <td>0.0</td>\n",
       "      <td>0.0</td>\n",
       "      <td>0.0</td>\n",
       "      <td>0.0</td>\n",
       "      <td>0.0</td>\n",
       "      <td>0.0</td>\n",
       "    </tr>\n",
       "    <tr>\n",
       "      <th>AT332</th>\n",
       "      <td>0.0</td>\n",
       "      <td>0.0</td>\n",
       "      <td>0.0</td>\n",
       "      <td>0.0</td>\n",
       "      <td>0.0</td>\n",
       "      <td>0.0</td>\n",
       "      <td>0.0</td>\n",
       "      <td>0.0</td>\n",
       "      <td>0.0</td>\n",
       "      <td>0.0</td>\n",
       "      <td>...</td>\n",
       "      <td>0.0</td>\n",
       "      <td>0.0</td>\n",
       "      <td>0.0</td>\n",
       "      <td>0.0</td>\n",
       "      <td>0.0</td>\n",
       "      <td>0.0</td>\n",
       "      <td>0.0</td>\n",
       "      <td>0.0</td>\n",
       "      <td>0.0</td>\n",
       "      <td>0.0</td>\n",
       "    </tr>\n",
       "    <tr>\n",
       "      <th>AT66T1</th>\n",
       "      <td>0.0</td>\n",
       "      <td>0.0</td>\n",
       "      <td>0.0</td>\n",
       "      <td>0.0</td>\n",
       "      <td>0.0</td>\n",
       "      <td>0.0</td>\n",
       "      <td>0.0</td>\n",
       "      <td>0.0</td>\n",
       "      <td>0.0</td>\n",
       "      <td>0.0</td>\n",
       "      <td>...</td>\n",
       "      <td>0.0</td>\n",
       "      <td>0.0</td>\n",
       "      <td>0.0</td>\n",
       "      <td>0.0</td>\n",
       "      <td>0.0</td>\n",
       "      <td>0.0</td>\n",
       "      <td>0.0</td>\n",
       "      <td>0.0</td>\n",
       "      <td>0.0</td>\n",
       "      <td>0.0</td>\n",
       "    </tr>\n",
       "  </tbody>\n",
       "</table>\n",
       "<p>5 rows × 57 columns</p>\n",
       "</div>"
      ],
      "text/plain": [
       "SYMBOL     0  ABL1  ALK  ARID1B  ARID2  ATM  BCOR  BRAF  BRCA1  BRCA2  ...   \\\n",
       "SAMPLE                                                                 ...    \n",
       "AT136T1  0.0   0.0  0.0     0.0    0.0  0.0   0.0   0.0    0.0    0.0  ...    \n",
       "AT136T2  0.0   0.0  0.0     0.0    0.0  0.0   0.0   0.0    0.0    0.0  ...    \n",
       "AT136T3  0.0   0.0  0.0     0.0    0.0  0.0   0.0   0.0    0.0    0.0  ...    \n",
       "AT332    0.0   0.0  0.0     0.0    0.0  0.0   0.0   0.0    0.0    0.0  ...    \n",
       "AT66T1   0.0   0.0  0.0     0.0    0.0  0.0   0.0   0.0    0.0    0.0  ...    \n",
       "\n",
       "SYMBOL   SF3B1  SMARCA4  SMO  SRC  STAT3  STK11  TNFAIP3  TP63  TRRAP  TSC2  \n",
       "SAMPLE                                                                       \n",
       "AT136T1    0.0      0.0  0.0  0.0    0.0    0.0      0.0   0.0    0.0   0.0  \n",
       "AT136T2    0.0      0.0  0.0  0.0    0.0    0.0      0.0   0.0    0.0   0.0  \n",
       "AT136T3    0.0      0.0  0.0  0.0    0.0    0.0      0.0   0.0    0.0   0.0  \n",
       "AT332      0.0      0.0  0.0  0.0    0.0    0.0      0.0   0.0    0.0   0.0  \n",
       "AT66T1     0.0      0.0  0.0  0.0    0.0    0.0      0.0   0.0    0.0   0.0  \n",
       "\n",
       "[5 rows x 57 columns]"
      ]
     },
     "execution_count": 175,
     "metadata": {},
     "output_type": "execute_result"
    }
   ],
   "source": [
    "mouse_uS_add.head()"
   ]
  },
  {
   "cell_type": "markdown",
   "metadata": {},
   "source": [
    "### Clean out some of the recurrent synonymous"
   ]
  },
  {
   "cell_type": "code",
   "execution_count": null,
   "metadata": {
    "collapsed": true
   },
   "outputs": [],
   "source": []
  },
  {
   "cell_type": "code",
   "execution_count": 249,
   "metadata": {},
   "outputs": [
    {
     "data": {
      "text/html": [
       "<div>\n",
       "<style scoped>\n",
       "    .dataframe tbody tr th:only-of-type {\n",
       "        vertical-align: middle;\n",
       "    }\n",
       "\n",
       "    .dataframe tbody tr th {\n",
       "        vertical-align: top;\n",
       "    }\n",
       "\n",
       "    .dataframe thead th {\n",
       "        text-align: right;\n",
       "    }\n",
       "</style>\n",
       "<table border=\"1\" class=\"dataframe\">\n",
       "  <thead>\n",
       "    <tr style=\"text-align: right;\">\n",
       "      <th></th>\n",
       "      <th>SAMPLE</th>\n",
       "      <th>SYMBOL</th>\n",
       "      <th>Score</th>\n",
       "      <th>Consequence</th>\n",
       "    </tr>\n",
       "  </thead>\n",
       "  <tbody>\n",
       "    <tr>\n",
       "      <th>2441</th>\n",
       "      <td>J759T2</td>\n",
       "      <td>ARID2</td>\n",
       "      <td>1.0</td>\n",
       "      <td>Non-missense</td>\n",
       "    </tr>\n",
       "    <tr>\n",
       "      <th>2582</th>\n",
       "      <td>J759T2</td>\n",
       "      <td>KDM6A</td>\n",
       "      <td>1.0</td>\n",
       "      <td>Non-missense</td>\n",
       "    </tr>\n",
       "    <tr>\n",
       "      <th>2584</th>\n",
       "      <td>J759T2</td>\n",
       "      <td>KMT2A</td>\n",
       "      <td>1.0</td>\n",
       "      <td>Non-missense</td>\n",
       "    </tr>\n",
       "    <tr>\n",
       "      <th>2824</th>\n",
       "      <td>J759T4</td>\n",
       "      <td>ARID2</td>\n",
       "      <td>1.0</td>\n",
       "      <td>Non-missense</td>\n",
       "    </tr>\n",
       "    <tr>\n",
       "      <th>2952</th>\n",
       "      <td>J759T4</td>\n",
       "      <td>KDM6A</td>\n",
       "      <td>1.0</td>\n",
       "      <td>Non-missense</td>\n",
       "    </tr>\n",
       "    <tr>\n",
       "      <th>2955</th>\n",
       "      <td>J759T4</td>\n",
       "      <td>KMT2A</td>\n",
       "      <td>1.0</td>\n",
       "      <td>Non-missense</td>\n",
       "    </tr>\n",
       "    <tr>\n",
       "      <th>3203</th>\n",
       "      <td>J759T5</td>\n",
       "      <td>ARID2</td>\n",
       "      <td>1.0</td>\n",
       "      <td>Non-missense</td>\n",
       "    </tr>\n",
       "    <tr>\n",
       "      <th>3332</th>\n",
       "      <td>J759T5</td>\n",
       "      <td>KDM6A</td>\n",
       "      <td>1.0</td>\n",
       "      <td>Non-missense</td>\n",
       "    </tr>\n",
       "    <tr>\n",
       "      <th>3334</th>\n",
       "      <td>J759T5</td>\n",
       "      <td>KMT2A</td>\n",
       "      <td>1.0</td>\n",
       "      <td>Non-missense</td>\n",
       "    </tr>\n",
       "  </tbody>\n",
       "</table>\n",
       "</div>"
      ],
      "text/plain": [
       "      SAMPLE SYMBOL  Score   Consequence\n",
       "2441  J759T2  ARID2    1.0  Non-missense\n",
       "2582  J759T2  KDM6A    1.0  Non-missense\n",
       "2584  J759T2  KMT2A    1.0  Non-missense\n",
       "2824  J759T4  ARID2    1.0  Non-missense\n",
       "2952  J759T4  KDM6A    1.0  Non-missense\n",
       "2955  J759T4  KMT2A    1.0  Non-missense\n",
       "3203  J759T5  ARID2    1.0  Non-missense\n",
       "3332  J759T5  KDM6A    1.0  Non-missense\n",
       "3334  J759T5  KMT2A    1.0  Non-missense"
      ]
     },
     "execution_count": 249,
     "metadata": {},
     "output_type": "execute_result"
    }
   ],
   "source": [
    "#!!! The synonymous mutations in J759T2, J759T4, J759T5 look like artifacts\n",
    "m1 = mouse_nonMis.Score == 1\n",
    "m2 = mouse_nonMis.SAMPLE.str.contains('J759')\n",
    "m3 = mouse_nonMis.SYMBOL.str.contains('^ARID2|KMT2A|KDM6A')\n",
    "\n",
    "mouse_nonMis[(m1&m2&m3)].sort_values(['SAMPLE'])"
   ]
  },
  {
   "cell_type": "code",
   "execution_count": 268,
   "metadata": {},
   "outputs": [
    {
     "data": {
      "text/html": [
       "<div>\n",
       "<style scoped>\n",
       "    .dataframe tbody tr th:only-of-type {\n",
       "        vertical-align: middle;\n",
       "    }\n",
       "\n",
       "    .dataframe tbody tr th {\n",
       "        vertical-align: top;\n",
       "    }\n",
       "\n",
       "    .dataframe thead th {\n",
       "        text-align: right;\n",
       "    }\n",
       "</style>\n",
       "<table border=\"1\" class=\"dataframe\">\n",
       "  <thead>\n",
       "    <tr style=\"text-align: right;\">\n",
       "      <th></th>\n",
       "      <th>SAMPLE</th>\n",
       "      <th>SYMBOL</th>\n",
       "      <th>Score</th>\n",
       "      <th>Consequence</th>\n",
       "    </tr>\n",
       "  </thead>\n",
       "  <tbody>\n",
       "    <tr>\n",
       "      <th>1836</th>\n",
       "      <td>J758T3</td>\n",
       "      <td>ARID2</td>\n",
       "      <td>1.0</td>\n",
       "      <td>Non-missense</td>\n",
       "    </tr>\n",
       "    <tr>\n",
       "      <th>2441</th>\n",
       "      <td>J759T2</td>\n",
       "      <td>ARID2</td>\n",
       "      <td>1.0</td>\n",
       "      <td>Non-missense</td>\n",
       "    </tr>\n",
       "    <tr>\n",
       "      <th>2824</th>\n",
       "      <td>J759T4</td>\n",
       "      <td>ARID2</td>\n",
       "      <td>1.0</td>\n",
       "      <td>Non-missense</td>\n",
       "    </tr>\n",
       "    <tr>\n",
       "      <th>3203</th>\n",
       "      <td>J759T5</td>\n",
       "      <td>ARID2</td>\n",
       "      <td>1.0</td>\n",
       "      <td>Non-missense</td>\n",
       "    </tr>\n",
       "    <tr>\n",
       "      <th>1974</th>\n",
       "      <td>J758T3</td>\n",
       "      <td>KDM6A</td>\n",
       "      <td>1.0</td>\n",
       "      <td>Non-missense</td>\n",
       "    </tr>\n",
       "    <tr>\n",
       "      <th>2582</th>\n",
       "      <td>J759T2</td>\n",
       "      <td>KDM6A</td>\n",
       "      <td>1.0</td>\n",
       "      <td>Non-missense</td>\n",
       "    </tr>\n",
       "    <tr>\n",
       "      <th>2952</th>\n",
       "      <td>J759T4</td>\n",
       "      <td>KDM6A</td>\n",
       "      <td>1.0</td>\n",
       "      <td>Non-missense</td>\n",
       "    </tr>\n",
       "    <tr>\n",
       "      <th>3332</th>\n",
       "      <td>J759T5</td>\n",
       "      <td>KDM6A</td>\n",
       "      <td>1.0</td>\n",
       "      <td>Non-missense</td>\n",
       "    </tr>\n",
       "    <tr>\n",
       "      <th>2584</th>\n",
       "      <td>J759T2</td>\n",
       "      <td>KMT2A</td>\n",
       "      <td>1.0</td>\n",
       "      <td>Non-missense</td>\n",
       "    </tr>\n",
       "    <tr>\n",
       "      <th>2955</th>\n",
       "      <td>J759T4</td>\n",
       "      <td>KMT2A</td>\n",
       "      <td>1.0</td>\n",
       "      <td>Non-missense</td>\n",
       "    </tr>\n",
       "    <tr>\n",
       "      <th>3334</th>\n",
       "      <td>J759T5</td>\n",
       "      <td>KMT2A</td>\n",
       "      <td>1.0</td>\n",
       "      <td>Non-missense</td>\n",
       "    </tr>\n",
       "    <tr>\n",
       "      <th>2626</th>\n",
       "      <td>J759T2</td>\n",
       "      <td>NCOR1</td>\n",
       "      <td>1.0</td>\n",
       "      <td>Non-missense</td>\n",
       "    </tr>\n",
       "  </tbody>\n",
       "</table>\n",
       "</div>"
      ],
      "text/plain": [
       "      SAMPLE SYMBOL  Score   Consequence\n",
       "1836  J758T3  ARID2    1.0  Non-missense\n",
       "2441  J759T2  ARID2    1.0  Non-missense\n",
       "2824  J759T4  ARID2    1.0  Non-missense\n",
       "3203  J759T5  ARID2    1.0  Non-missense\n",
       "1974  J758T3  KDM6A    1.0  Non-missense\n",
       "2582  J759T2  KDM6A    1.0  Non-missense\n",
       "2952  J759T4  KDM6A    1.0  Non-missense\n",
       "3332  J759T5  KDM6A    1.0  Non-missense\n",
       "2584  J759T2  KMT2A    1.0  Non-missense\n",
       "2955  J759T4  KMT2A    1.0  Non-missense\n",
       "3334  J759T5  KMT2A    1.0  Non-missense\n",
       "2626  J759T2  NCOR1    1.0  Non-missense"
      ]
     },
     "execution_count": 268,
     "metadata": {},
     "output_type": "execute_result"
    }
   ],
   "source": [
    "m1 = mouse_nonMis.Score == 1\n",
    "m2 = mouse_nonMis.SAMPLE.isin(['J758T3','J759T2','J759T4','J759T5'])\n",
    "m3 = mouse_nonMis.SYMBOL.str.contains('^ARID2|KMT2A|KDM6A|NCOR')\n",
    "\n",
    "mouse_nonMis[(m1&m2&m3)].sort_values(['SYMBOL'])"
   ]
  },
  {
   "cell_type": "code",
   "execution_count": 269,
   "metadata": {},
   "outputs": [],
   "source": [
    "mouse_nonMis_2 = mouse_nonMis[~(m1&m2&m3)]"
   ]
  },
  {
   "cell_type": "code",
   "execution_count": null,
   "metadata": {
    "collapsed": true
   },
   "outputs": [],
   "source": []
  },
  {
   "cell_type": "code",
   "execution_count": null,
   "metadata": {
    "collapsed": true
   },
   "outputs": [],
   "source": []
  },
  {
   "cell_type": "code",
   "execution_count": 261,
   "metadata": {},
   "outputs": [
    {
     "data": {
      "text/plain": [
       "\"m1 = mouse.SYMBOL.str.contains('^ARID2|KMT2A|KDM6A')\\nm2 = mouse.Consequence.str.contains('synonymous')\\nm3 = mouse.SAMPLE.isin(['J758T3','J759T2','J759T4','J759T5'])\\nmouse[(m1&m2&m3)].sort_values(['Location'])\""
      ]
     },
     "execution_count": 261,
     "metadata": {},
     "output_type": "execute_result"
    }
   ],
   "source": [
    "'''m1 = mouse.SYMBOL.str.contains('^ARID2|KMT2A|KDM6A')\n",
    "m2 = mouse.Consequence.str.contains('synonymous')\n",
    "m3 = mouse.SAMPLE.isin(['J758T3','J759T2','J759T4','J759T5'])\n",
    "mouse[(m1&m2&m3)].sort_values(['Location'])'''"
   ]
  },
  {
   "cell_type": "code",
   "execution_count": null,
   "metadata": {
    "collapsed": true
   },
   "outputs": [],
   "source": []
  },
  {
   "cell_type": "markdown",
   "metadata": {},
   "source": [
    "## ======="
   ]
  },
  {
   "cell_type": "markdown",
   "metadata": {},
   "source": [
    "## Already cut by threshold and used for alteration plots"
   ]
  },
  {
   "cell_type": "code",
   "execution_count": 177,
   "metadata": {
    "collapsed": true
   },
   "outputs": [],
   "source": [
    "chasm_allMatch = pd.read_pickle('/cellar/users/mdow/Projects/HCC/DNA_analysis/Pathway_alteration/mouse_mut_chasm_filtered_allMatch.pkl')"
   ]
  },
  {
   "cell_type": "code",
   "execution_count": 178,
   "metadata": {
    "collapsed": true
   },
   "outputs": [],
   "source": [
    "chasm_genMatch= pd.read_pickle('/cellar/users/mdow/Projects/HCC/DNA_analysis/Pathway_alteration/mouse_mut_chasm_filtered_genMatch.pkl')"
   ]
  },
  {
   "cell_type": "code",
   "execution_count": 179,
   "metadata": {},
   "outputs": [
    {
     "name": "stdout",
     "output_type": "stream",
     "text": [
      "(351, 41) (327, 41)\n"
     ]
    }
   ],
   "source": [
    "print chasm_allMatch.shape, chasm_genMatch.shape"
   ]
  },
  {
   "cell_type": "code",
   "execution_count": 270,
   "metadata": {},
   "outputs": [],
   "source": [
    "def get_score_df_uS(df):\n",
    "    inCols = ['MODEL','SAMPLE','SYMBOL','Consequence']\n",
    "\n",
    "    df_sub = df[inCols].drop_duplicates().reset_index(drop=True)\n",
    "\n",
    "    print 'Mouse'\n",
    "    df_score = get_dfScore_new(df_sub)\n",
    "\n",
    "    mouse_merged = pd.merge(mouse_empty,df_score,how='left').fillna(0)\n",
    "\n",
    "    print mouse_merged.SAMPLE.nunique()\n",
    "    \n",
    "    # add non-missense !!!\n",
    "    print mouse_nonMis.shape, tmp.shape\n",
    "    \n",
    "    mouse_toAdd = pd.concat([mouse_nonMis_2,tmp])\n",
    "    \n",
    "    mouse_merged_more = pd.concat([mouse_merged,mouse_toAdd])\n",
    "    \n",
    "    print mouse_merged.shape, mouse_toAdd.shape, mouse_merged_more.shape\n",
    "\n",
    "    mouse_uS = mouse_merged_more.groupby(['SAMPLE','SYMBOL']).Score.first().unstack().fillna(0)\n",
    "\n",
    "    print mouse_uS.shape\n",
    "    return mouse_uS"
   ]
  },
  {
   "cell_type": "code",
   "execution_count": 271,
   "metadata": {},
   "outputs": [
    {
     "name": "stdout",
     "output_type": "stream",
     "text": [
      "Mouse\n",
      "(335, 4)\n",
      "335\n",
      "335\n",
      "56\n",
      "(4776, 4) (1, 5)\n",
      "(350, 5) (4765, 5) (5115, 5)\n",
      "(56, 3001)\n"
     ]
    }
   ],
   "source": [
    "chasm_allMatch_uS = get_score_df_uS(chasm_allMatch)\n",
    "\n",
    "chasm_allMatch_uS.to_pickle('mouse_chasm_allMatch_mut_score.pkl')"
   ]
  },
  {
   "cell_type": "code",
   "execution_count": 272,
   "metadata": {},
   "outputs": [
    {
     "name": "stdout",
     "output_type": "stream",
     "text": [
      "Mouse\n",
      "(311, 4)\n",
      "311\n",
      "311\n",
      "56\n",
      "(4776, 4) (1, 5)\n",
      "(326, 5) (4765, 5) (5091, 5)\n",
      "(56, 2990)\n"
     ]
    }
   ],
   "source": [
    "chasm_genMatch_uS = get_score_df_uS(chasm_genMatch)\n",
    "\n",
    "chasm_genMatch_uS.to_pickle('mouse_chasm_genMatch_mut_score.pkl')"
   ]
  },
  {
   "cell_type": "code",
   "execution_count": 265,
   "metadata": {},
   "outputs": [
    {
     "data": {
      "text/plain": [
       "DBX2        11\n",
       "CYFIP1      11\n",
       "PAPOLA      10\n",
       "NDFIP1      10\n",
       "TRHDE       10\n",
       "ACACA       10\n",
       "VKORC1L1    10\n",
       "NLRP5        9\n",
       "GIGYF2       9\n",
       "CNTNAP2      9\n",
       "IFT122       8\n",
       "PLCB4        8\n",
       "AMBRA1       8\n",
       "ST8SIA2      8\n",
       "CADM1        8\n",
       "SSBP3        8\n",
       "CNOT2        8\n",
       "DOCK4        8\n",
       "RBM6         8\n",
       "STON2        8\n",
       "SAMD4A       8\n",
       "CTNND2       8\n",
       "DDX5         8\n",
       "ARHGEF9      8\n",
       "AFF4         8\n",
       "GBF1         8\n",
       "WDR59        8\n",
       "CCNL1        8\n",
       "EIF4G2       8\n",
       "NUP160       8\n",
       "            ..\n",
       "APC2         1\n",
       "COL25A1      1\n",
       "SFSWAP       1\n",
       "GANC         1\n",
       "PROZ         1\n",
       "FBN2         1\n",
       "SLC24A4      1\n",
       "RTN4         1\n",
       "ARIH1        1\n",
       "NOS2         1\n",
       "SLC35F4      1\n",
       "PARD3        1\n",
       "MPC2         1\n",
       "GPI          1\n",
       "SELENOW      1\n",
       "TRMT112      1\n",
       "MLPH         1\n",
       "FUCA2        1\n",
       "ZNF394       1\n",
       "PPP3CA       1\n",
       "TMEM159      1\n",
       "KDM7A        1\n",
       "RPP14        1\n",
       "PNPLA6       1\n",
       "NCLN         1\n",
       "ZAN          1\n",
       "NUP35        1\n",
       "IFT172       1\n",
       "NIF3L1       1\n",
       "UBE2Q1       1\n",
       "Name: SYMBOL, Length: 2855, dtype: int64"
      ]
     },
     "execution_count": 265,
     "metadata": {},
     "output_type": "execute_result"
    }
   ],
   "source": [
    "mouse_nonMis.SYMBOL.value_counts()"
   ]
  },
  {
   "cell_type": "code",
   "execution_count": null,
   "metadata": {
    "collapsed": true
   },
   "outputs": [],
   "source": []
  },
  {
   "cell_type": "code",
   "execution_count": null,
   "metadata": {
    "collapsed": true
   },
   "outputs": [],
   "source": []
  },
  {
   "cell_type": "code",
   "execution_count": null,
   "metadata": {
    "collapsed": true
   },
   "outputs": [],
   "source": []
  },
  {
   "cell_type": "code",
   "execution_count": null,
   "metadata": {
    "collapsed": true
   },
   "outputs": [],
   "source": []
  },
  {
   "cell_type": "code",
   "execution_count": null,
   "metadata": {
    "collapsed": true
   },
   "outputs": [],
   "source": []
  },
  {
   "cell_type": "code",
   "execution_count": null,
   "metadata": {
    "collapsed": true
   },
   "outputs": [],
   "source": []
  },
  {
   "cell_type": "code",
   "execution_count": null,
   "metadata": {
    "collapsed": true
   },
   "outputs": [],
   "source": []
  },
  {
   "cell_type": "code",
   "execution_count": null,
   "metadata": {
    "collapsed": true
   },
   "outputs": [],
   "source": []
  },
  {
   "cell_type": "code",
   "execution_count": null,
   "metadata": {
    "collapsed": true
   },
   "outputs": [],
   "source": []
  },
  {
   "cell_type": "code",
   "execution_count": null,
   "metadata": {
    "collapsed": true
   },
   "outputs": [],
   "source": []
  },
  {
   "cell_type": "code",
   "execution_count": null,
   "metadata": {
    "collapsed": true
   },
   "outputs": [],
   "source": []
  },
  {
   "cell_type": "code",
   "execution_count": null,
   "metadata": {
    "collapsed": true
   },
   "outputs": [],
   "source": []
  },
  {
   "cell_type": "code",
   "execution_count": null,
   "metadata": {
    "collapsed": true
   },
   "outputs": [],
   "source": []
  },
  {
   "cell_type": "code",
   "execution_count": null,
   "metadata": {
    "collapsed": true
   },
   "outputs": [],
   "source": []
  },
  {
   "cell_type": "code",
   "execution_count": null,
   "metadata": {
    "collapsed": true
   },
   "outputs": [],
   "source": []
  },
  {
   "cell_type": "code",
   "execution_count": null,
   "metadata": {
    "collapsed": true
   },
   "outputs": [],
   "source": []
  },
  {
   "cell_type": "markdown",
   "metadata": {
    "collapsed": true
   },
   "source": [
    "## ======"
   ]
  },
  {
   "cell_type": "markdown",
   "metadata": {},
   "source": [
    "## For mouse calculate pVal"
   ]
  },
  {
   "cell_type": "code",
   "execution_count": 11,
   "metadata": {
    "collapsed": true
   },
   "outputs": [],
   "source": [
    "# Shouldn't use the one with silent mutations filtered out.. should use the one with germline"
   ]
  },
  {
   "cell_type": "code",
   "execution_count": 156,
   "metadata": {
    "collapsed": true
   },
   "outputs": [],
   "source": [
    "mouse_fname_gFil = '/cellar/users/mdow/Projects/HCC/DNA_analysis/Mouse_DNA/annotated_variants_ortGenes_humanGNames_germlineFilt.csv'\n",
    "mouse_g = pd.read_csv(mouse_fname_gFil,index_col=0)"
   ]
  },
  {
   "cell_type": "code",
   "execution_count": 157,
   "metadata": {},
   "outputs": [
    {
     "data": {
      "text/html": [
       "<div>\n",
       "<style scoped>\n",
       "    .dataframe tbody tr th:only-of-type {\n",
       "        vertical-align: middle;\n",
       "    }\n",
       "\n",
       "    .dataframe tbody tr th {\n",
       "        vertical-align: top;\n",
       "    }\n",
       "\n",
       "    .dataframe thead th {\n",
       "        text-align: right;\n",
       "    }\n",
       "</style>\n",
       "<table border=\"1\" class=\"dataframe\">\n",
       "  <thead>\n",
       "    <tr style=\"text-align: right;\">\n",
       "      <th></th>\n",
       "      <th>MODEL</th>\n",
       "      <th>SAMPLE</th>\n",
       "      <th>Uploaded_variation</th>\n",
       "      <th>Location</th>\n",
       "      <th>Allele</th>\n",
       "      <th>Consequence</th>\n",
       "      <th>IMPACT</th>\n",
       "      <th>SYMBOL</th>\n",
       "      <th>Gene</th>\n",
       "      <th>Feature_type</th>\n",
       "      <th>...</th>\n",
       "      <th>SIFT</th>\n",
       "      <th>CLIN_SIG</th>\n",
       "      <th>SOMATIC</th>\n",
       "      <th>PHENO</th>\n",
       "      <th>MOTIF_NAME</th>\n",
       "      <th>MOTIF_POS</th>\n",
       "      <th>HIGH_INF_POS</th>\n",
       "      <th>MOTIF_SCORE_CHANGE</th>\n",
       "      <th>Hugo</th>\n",
       "      <th>Animal</th>\n",
       "    </tr>\n",
       "  </thead>\n",
       "  <tbody>\n",
       "    <tr>\n",
       "      <th>0</th>\n",
       "      <td>DEN</td>\n",
       "      <td>T19</td>\n",
       "      <td>1_8963144_C/T</td>\n",
       "      <td>1:8963144-8963144</td>\n",
       "      <td>T</td>\n",
       "      <td>intron_variant</td>\n",
       "      <td>MODIFIER</td>\n",
       "      <td>SNTG1</td>\n",
       "      <td>ENSMUSG00000025909</td>\n",
       "      <td>Transcript</td>\n",
       "      <td>...</td>\n",
       "      <td>-</td>\n",
       "      <td>-</td>\n",
       "      <td>-</td>\n",
       "      <td>-</td>\n",
       "      <td>-</td>\n",
       "      <td>-</td>\n",
       "      <td>-</td>\n",
       "      <td>-</td>\n",
       "      <td>SNTG1</td>\n",
       "      <td>J57</td>\n",
       "    </tr>\n",
       "    <tr>\n",
       "      <th>1</th>\n",
       "      <td>DEN</td>\n",
       "      <td>T19</td>\n",
       "      <td>1_9676329_C/A</td>\n",
       "      <td>1:9676329-9676329</td>\n",
       "      <td>A</td>\n",
       "      <td>missense_variant</td>\n",
       "      <td>MODERATE</td>\n",
       "      <td>MYBL1</td>\n",
       "      <td>ENSMUSG00000025912</td>\n",
       "      <td>Transcript</td>\n",
       "      <td>...</td>\n",
       "      <td>tolerated(0.42)</td>\n",
       "      <td>-</td>\n",
       "      <td>-</td>\n",
       "      <td>-</td>\n",
       "      <td>-</td>\n",
       "      <td>-</td>\n",
       "      <td>-</td>\n",
       "      <td>-</td>\n",
       "      <td>MYBL1</td>\n",
       "      <td>J57</td>\n",
       "    </tr>\n",
       "    <tr>\n",
       "      <th>2</th>\n",
       "      <td>DEN</td>\n",
       "      <td>T19</td>\n",
       "      <td>1_9690115_A/G</td>\n",
       "      <td>1:9690115-9690115</td>\n",
       "      <td>G</td>\n",
       "      <td>missense_variant</td>\n",
       "      <td>MODERATE</td>\n",
       "      <td>MYBL1</td>\n",
       "      <td>ENSMUSG00000025912</td>\n",
       "      <td>Transcript</td>\n",
       "      <td>...</td>\n",
       "      <td>deleterious(0)</td>\n",
       "      <td>-</td>\n",
       "      <td>-</td>\n",
       "      <td>-</td>\n",
       "      <td>-</td>\n",
       "      <td>-</td>\n",
       "      <td>-</td>\n",
       "      <td>-</td>\n",
       "      <td>MYBL1</td>\n",
       "      <td>J57</td>\n",
       "    </tr>\n",
       "    <tr>\n",
       "      <th>3</th>\n",
       "      <td>DEN</td>\n",
       "      <td>T19</td>\n",
       "      <td>1_10993946_A/G</td>\n",
       "      <td>1:10993946-10993946</td>\n",
       "      <td>G</td>\n",
       "      <td>intron_variant</td>\n",
       "      <td>MODIFIER</td>\n",
       "      <td>PREX2</td>\n",
       "      <td>ENSMUSG00000048960</td>\n",
       "      <td>Transcript</td>\n",
       "      <td>...</td>\n",
       "      <td>-</td>\n",
       "      <td>-</td>\n",
       "      <td>-</td>\n",
       "      <td>-</td>\n",
       "      <td>-</td>\n",
       "      <td>-</td>\n",
       "      <td>-</td>\n",
       "      <td>-</td>\n",
       "      <td>PREX2</td>\n",
       "      <td>J57</td>\n",
       "    </tr>\n",
       "    <tr>\n",
       "      <th>4</th>\n",
       "      <td>DEN</td>\n",
       "      <td>T19</td>\n",
       "      <td>1_11140256_C/T</td>\n",
       "      <td>1:11140256-11140256</td>\n",
       "      <td>T</td>\n",
       "      <td>synonymous_variant</td>\n",
       "      <td>LOW</td>\n",
       "      <td>PREX2</td>\n",
       "      <td>ENSMUSG00000048960</td>\n",
       "      <td>Transcript</td>\n",
       "      <td>...</td>\n",
       "      <td>-</td>\n",
       "      <td>-</td>\n",
       "      <td>-</td>\n",
       "      <td>-</td>\n",
       "      <td>-</td>\n",
       "      <td>-</td>\n",
       "      <td>-</td>\n",
       "      <td>-</td>\n",
       "      <td>PREX2</td>\n",
       "      <td>J57</td>\n",
       "    </tr>\n",
       "  </tbody>\n",
       "</table>\n",
       "<p>5 rows × 39 columns</p>\n",
       "</div>"
      ],
      "text/plain": [
       "  MODEL SAMPLE Uploaded_variation             Location Allele  \\\n",
       "0   DEN    T19      1_8963144_C/T    1:8963144-8963144      T   \n",
       "1   DEN    T19      1_9676329_C/A    1:9676329-9676329      A   \n",
       "2   DEN    T19      1_9690115_A/G    1:9690115-9690115      G   \n",
       "3   DEN    T19     1_10993946_A/G  1:10993946-10993946      G   \n",
       "4   DEN    T19     1_11140256_C/T  1:11140256-11140256      T   \n",
       "\n",
       "          Consequence    IMPACT SYMBOL                Gene Feature_type  \\\n",
       "0      intron_variant  MODIFIER  SNTG1  ENSMUSG00000025909   Transcript   \n",
       "1    missense_variant  MODERATE  MYBL1  ENSMUSG00000025912   Transcript   \n",
       "2    missense_variant  MODERATE  MYBL1  ENSMUSG00000025912   Transcript   \n",
       "3      intron_variant  MODIFIER  PREX2  ENSMUSG00000048960   Transcript   \n",
       "4  synonymous_variant       LOW  PREX2  ENSMUSG00000048960   Transcript   \n",
       "\n",
       "   ...               SIFT CLIN_SIG SOMATIC PHENO MOTIF_NAME MOTIF_POS  \\\n",
       "0  ...                  -        -       -     -          -         -   \n",
       "1  ...    tolerated(0.42)        -       -     -          -         -   \n",
       "2  ...     deleterious(0)        -       -     -          -         -   \n",
       "3  ...                  -        -       -     -          -         -   \n",
       "4  ...                  -        -       -     -          -         -   \n",
       "\n",
       "  HIGH_INF_POS MOTIF_SCORE_CHANGE   Hugo Animal  \n",
       "0            -                  -  SNTG1    J57  \n",
       "1            -                  -  MYBL1    J57  \n",
       "2            -                  -  MYBL1    J57  \n",
       "3            -                  -  PREX2    J57  \n",
       "4            -                  -  PREX2    J57  \n",
       "\n",
       "[5 rows x 39 columns]"
      ]
     },
     "execution_count": 157,
     "metadata": {},
     "output_type": "execute_result"
    }
   ],
   "source": [
    "mouse_g.head()"
   ]
  },
  {
   "cell_type": "code",
   "execution_count": 158,
   "metadata": {},
   "outputs": [
    {
     "name": "stdout",
     "output_type": "stream",
     "text": [
      "(100760, 4)\n",
      "100760\n",
      "100760\n"
     ]
    }
   ],
   "source": [
    "inCols = ['MODEL','SAMPLE','SYMBOL','Consequence']\n",
    "\n",
    "mouse_g_sub= mouse_g[inCols].drop_duplicates().reset_index(drop=True)\n",
    "mouse_g_score = get_dfScore_new(mouse_g_sub)"
   ]
  },
  {
   "cell_type": "code",
   "execution_count": null,
   "metadata": {
    "collapsed": true
   },
   "outputs": [],
   "source": []
  },
  {
   "cell_type": "markdown",
   "metadata": {},
   "source": [
    "### step1: calculate dN/dS"
   ]
  },
  {
   "cell_type": "code",
   "execution_count": 15,
   "metadata": {
    "collapsed": true
   },
   "outputs": [],
   "source": [
    "synDf = mouse_g_score[mouse_g_score.Consequence == 'synonymous_variant']\n",
    "synCnt = synDf.groupby('SYMBOL').MODEL.value_counts().reset_index(name='SynCnt')\n",
    "\n",
    "synCnt_unstack = synCnt.pivot(index='SYMBOL',columns='MODEL',values='SynCnt').fillna(0)"
   ]
  },
  {
   "cell_type": "code",
   "execution_count": 16,
   "metadata": {},
   "outputs": [
    {
     "data": {
      "text/html": [
       "<div>\n",
       "<style scoped>\n",
       "    .dataframe tbody tr th:only-of-type {\n",
       "        vertical-align: middle;\n",
       "    }\n",
       "\n",
       "    .dataframe tbody tr th {\n",
       "        vertical-align: top;\n",
       "    }\n",
       "\n",
       "    .dataframe thead th {\n",
       "        text-align: right;\n",
       "    }\n",
       "</style>\n",
       "<table border=\"1\" class=\"dataframe\">\n",
       "  <thead>\n",
       "    <tr style=\"text-align: right;\">\n",
       "      <th>MODEL</th>\n",
       "      <th>DEN</th>\n",
       "      <th>MUP</th>\n",
       "      <th>STAM</th>\n",
       "      <th>TAK1</th>\n",
       "    </tr>\n",
       "    <tr>\n",
       "      <th>SYMBOL</th>\n",
       "      <th></th>\n",
       "      <th></th>\n",
       "      <th></th>\n",
       "      <th></th>\n",
       "    </tr>\n",
       "  </thead>\n",
       "  <tbody>\n",
       "    <tr>\n",
       "      <th>A2M</th>\n",
       "      <td>1.0</td>\n",
       "      <td>0.0</td>\n",
       "      <td>5.0</td>\n",
       "      <td>0.0</td>\n",
       "    </tr>\n",
       "    <tr>\n",
       "      <th>A4GALT</th>\n",
       "      <td>1.0</td>\n",
       "      <td>0.0</td>\n",
       "      <td>1.0</td>\n",
       "      <td>0.0</td>\n",
       "    </tr>\n",
       "    <tr>\n",
       "      <th>AAAS</th>\n",
       "      <td>2.0</td>\n",
       "      <td>0.0</td>\n",
       "      <td>0.0</td>\n",
       "      <td>0.0</td>\n",
       "    </tr>\n",
       "    <tr>\n",
       "      <th>AACS</th>\n",
       "      <td>0.0</td>\n",
       "      <td>0.0</td>\n",
       "      <td>1.0</td>\n",
       "      <td>0.0</td>\n",
       "    </tr>\n",
       "    <tr>\n",
       "      <th>AADAC</th>\n",
       "      <td>0.0</td>\n",
       "      <td>0.0</td>\n",
       "      <td>1.0</td>\n",
       "      <td>1.0</td>\n",
       "    </tr>\n",
       "  </tbody>\n",
       "</table>\n",
       "</div>"
      ],
      "text/plain": [
       "MODEL   DEN  MUP  STAM  TAK1\n",
       "SYMBOL                      \n",
       "A2M     1.0  0.0   5.0   0.0\n",
       "A4GALT  1.0  0.0   1.0   0.0\n",
       "AAAS    2.0  0.0   0.0   0.0\n",
       "AACS    0.0  0.0   1.0   0.0\n",
       "AADAC   0.0  0.0   1.0   1.0"
      ]
     },
     "execution_count": 16,
     "metadata": {},
     "output_type": "execute_result"
    }
   ],
   "source": [
    "synCnt_unstack.head()"
   ]
  },
  {
   "cell_type": "code",
   "execution_count": 17,
   "metadata": {
    "collapsed": true
   },
   "outputs": [],
   "source": [
    "missenseDf =mouse_g_score[mouse_g_score.Consequence == 'missense_variant']\n",
    "misCnt = missenseDf.groupby('SYMBOL').MODEL.value_counts().reset_index(name='MisCnt')\n",
    "\n",
    "misCnt_unstack = misCnt.pivot(index='SYMBOL',columns='MODEL',values='MisCnt').fillna(0)"
   ]
  },
  {
   "cell_type": "code",
   "execution_count": 18,
   "metadata": {
    "collapsed": true
   },
   "outputs": [],
   "source": [
    "misCnt_unstack.index = [g.lower() for g in misCnt_unstack.index] \n",
    "synCnt_unstack.index = [g.lower() for g in synCnt_unstack.index] "
   ]
  },
  {
   "cell_type": "markdown",
   "metadata": {},
   "source": [
    "### step2: get ratio between mutation counts and gene sizes \n",
    "### remove genes which are too big"
   ]
  },
  {
   "cell_type": "code",
   "execution_count": 19,
   "metadata": {
    "collapsed": true
   },
   "outputs": [],
   "source": [
    "geneSize_fname = '/cellar/users/mdow/Projects/HCC/mouse_geneSize.csv'\n",
    "geneSizeRaw=pd.read_csv(geneSize_fname,index_col=0)"
   ]
  },
  {
   "cell_type": "code",
   "execution_count": 20,
   "metadata": {},
   "outputs": [
    {
     "name": "stderr",
     "output_type": "stream",
     "text": [
      "/cellar/users/mdow/anaconda2/lib/python2.7/site-packages/ipykernel/__main__.py:3: SettingWithCopyWarning: \n",
      "A value is trying to be set on a copy of a slice from a DataFrame.\n",
      "Try using .loc[row_indexer,col_indexer] = value instead\n",
      "\n",
      "See the caveats in the documentation: http://pandas.pydata.org/pandas-docs/stable/indexing.html#indexing-view-versus-copy\n",
      "  app.launch_new_instance()\n",
      "/cellar/users/mdow/anaconda2/lib/python2.7/site-packages/ipykernel/__main__.py:5: SettingWithCopyWarning: \n",
      "A value is trying to be set on a copy of a slice from a DataFrame.\n",
      "Try using .loc[row_indexer,col_indexer] = value instead\n",
      "\n",
      "See the caveats in the documentation: http://pandas.pydata.org/pandas-docs/stable/indexing.html#indexing-view-versus-copy\n",
      "/cellar/users/mdow/anaconda2/lib/python2.7/site-packages/ipykernel/__main__.py:6: SettingWithCopyWarning: \n",
      "A value is trying to be set on a copy of a slice from a DataFrame.\n",
      "Try using .loc[row_indexer,col_indexer] = value instead\n",
      "\n",
      "See the caveats in the documentation: http://pandas.pydata.org/pandas-docs/stable/indexing.html#indexing-view-versus-copy\n"
     ]
    }
   ],
   "source": [
    "geneSize_sub = geneSizeRaw[['Human_Symbol','Size']]\n",
    "\n",
    "geneSize_sub['hgnc']=[g.lower() for g in geneSize_sub.Human_Symbol]\n",
    "\n",
    "geneSize_sub['log_size'] = np.log2(geneSize_sub.Size+1)\n",
    "geneSize_sub['gene']=geneSize_sub.hgnc\n",
    "geneSize_nodup = geneSize_sub.groupby(['gene']).log_size.mean().reset_index()\n",
    "geneSize = geneSize_nodup[['gene','log_size']]"
   ]
  },
  {
   "cell_type": "code",
   "execution_count": 21,
   "metadata": {},
   "outputs": [
    {
     "data": {
      "text/html": [
       "<div>\n",
       "<style scoped>\n",
       "    .dataframe tbody tr th:only-of-type {\n",
       "        vertical-align: middle;\n",
       "    }\n",
       "\n",
       "    .dataframe tbody tr th {\n",
       "        vertical-align: top;\n",
       "    }\n",
       "\n",
       "    .dataframe thead th {\n",
       "        text-align: right;\n",
       "    }\n",
       "</style>\n",
       "<table border=\"1\" class=\"dataframe\">\n",
       "  <thead>\n",
       "    <tr style=\"text-align: right;\">\n",
       "      <th></th>\n",
       "      <th>DEN</th>\n",
       "      <th>MUP</th>\n",
       "      <th>STAM</th>\n",
       "      <th>TAK1</th>\n",
       "      <th>gene</th>\n",
       "      <th>DEN_syn</th>\n",
       "      <th>MUP_syn</th>\n",
       "      <th>STAM_syn</th>\n",
       "      <th>TAK1_syn</th>\n",
       "      <th>log_size</th>\n",
       "    </tr>\n",
       "  </thead>\n",
       "  <tbody>\n",
       "    <tr>\n",
       "      <th>0</th>\n",
       "      <td>1.0</td>\n",
       "      <td>0.0</td>\n",
       "      <td>2.0</td>\n",
       "      <td>0.0</td>\n",
       "      <td>a1bg</td>\n",
       "      <td>0.0</td>\n",
       "      <td>0.0</td>\n",
       "      <td>0.0</td>\n",
       "      <td>0.0</td>\n",
       "      <td>11.846274</td>\n",
       "    </tr>\n",
       "    <tr>\n",
       "      <th>1</th>\n",
       "      <td>0.0</td>\n",
       "      <td>0.0</td>\n",
       "      <td>0.0</td>\n",
       "      <td>1.0</td>\n",
       "      <td>a1cf</td>\n",
       "      <td>0.0</td>\n",
       "      <td>0.0</td>\n",
       "      <td>0.0</td>\n",
       "      <td>0.0</td>\n",
       "      <td>16.351405</td>\n",
       "    </tr>\n",
       "    <tr>\n",
       "      <th>2</th>\n",
       "      <td>2.0</td>\n",
       "      <td>0.0</td>\n",
       "      <td>5.0</td>\n",
       "      <td>0.0</td>\n",
       "      <td>a2m</td>\n",
       "      <td>1.0</td>\n",
       "      <td>0.0</td>\n",
       "      <td>5.0</td>\n",
       "      <td>0.0</td>\n",
       "      <td>15.394496</td>\n",
       "    </tr>\n",
       "    <tr>\n",
       "      <th>3</th>\n",
       "      <td>0.0</td>\n",
       "      <td>0.0</td>\n",
       "      <td>3.0</td>\n",
       "      <td>0.0</td>\n",
       "      <td>a3galt2</td>\n",
       "      <td>0.0</td>\n",
       "      <td>0.0</td>\n",
       "      <td>0.0</td>\n",
       "      <td>0.0</td>\n",
       "      <td>13.417853</td>\n",
       "    </tr>\n",
       "    <tr>\n",
       "      <th>4</th>\n",
       "      <td>1.0</td>\n",
       "      <td>0.0</td>\n",
       "      <td>2.0</td>\n",
       "      <td>0.0</td>\n",
       "      <td>a4gnt</td>\n",
       "      <td>0.0</td>\n",
       "      <td>0.0</td>\n",
       "      <td>0.0</td>\n",
       "      <td>0.0</td>\n",
       "      <td>14.928703</td>\n",
       "    </tr>\n",
       "  </tbody>\n",
       "</table>\n",
       "</div>"
      ],
      "text/plain": [
       "   DEN  MUP  STAM  TAK1     gene  DEN_syn  MUP_syn  STAM_syn  TAK1_syn  \\\n",
       "0  1.0  0.0   2.0   0.0     a1bg      0.0      0.0       0.0       0.0   \n",
       "1  0.0  0.0   0.0   1.0     a1cf      0.0      0.0       0.0       0.0   \n",
       "2  2.0  0.0   5.0   0.0      a2m      1.0      0.0       5.0       0.0   \n",
       "3  0.0  0.0   3.0   0.0  a3galt2      0.0      0.0       0.0       0.0   \n",
       "4  1.0  0.0   2.0   0.0    a4gnt      0.0      0.0       0.0       0.0   \n",
       "\n",
       "    log_size  \n",
       "0  11.846274  \n",
       "1  16.351405  \n",
       "2  15.394496  \n",
       "3  13.417853  \n",
       "4  14.928703  "
      ]
     },
     "execution_count": 21,
     "metadata": {},
     "output_type": "execute_result"
    }
   ],
   "source": [
    "misCnt_unstack['gene']=misCnt_unstack.index\n",
    "synCnt_unstack['gene']=synCnt_unstack.index\n",
    "synCnt_unstack.columns = ['DEN_syn','MUP_syn','STAM_syn','TAK1_syn','gene']\n",
    "\n",
    "mergeDf_cnt = pd.merge(misCnt_unstack,synCnt_unstack,how='outer').fillna(0)\n",
    "mergeDf = pd.merge(mergeDf_cnt,geneSize,how='inner').fillna(0)\n",
    "\n",
    "mergeDf = mergeDf[mergeDf.log_size > 0]\n",
    "mergeDf.head()"
   ]
  },
  {
   "cell_type": "code",
   "execution_count": null,
   "metadata": {
    "collapsed": true
   },
   "outputs": [],
   "source": []
  },
  {
   "cell_type": "markdown",
   "metadata": {},
   "source": [
    "## Rank dN/dS"
   ]
  },
  {
   "cell_type": "code",
   "execution_count": null,
   "metadata": {
    "collapsed": true
   },
   "outputs": [],
   "source": []
  },
  {
   "cell_type": "code",
   "execution_count": 187,
   "metadata": {
    "collapsed": true
   },
   "outputs": [],
   "source": [
    "den_ratio = list()\n",
    "mup_ratio = list()\n",
    "stam_ratio = list()\n",
    "tak1_ratio = list()\n",
    "for i in range(mergeDf.shape[0]):\n",
    "    dR = (mergeDf.DEN[i]+1)/(mergeDf.DEN_syn[i]+1)\n",
    "    tR = (mergeDf.TAK1[i]+1)/(mergeDf.TAK1_syn[i]+1)\n",
    "    mR = (mergeDf.MUP[i]+1)/(mergeDf.MUP_syn[i]+1)\n",
    "    sR = (mergeDf.STAM[i]+1)/(mergeDf.STAM_syn[i]+1)\n",
    "    den_ratio.append(dR)\n",
    "    mup_ratio.append(mR)\n",
    "    stam_ratio.append(sR)\n",
    "    tak1_ratio.append(tR)\n",
    "\n",
    "myRatios = {'DEN':den_ratio,'MUP':mup_ratio,'STAM':stam_ratio,'TAK1':tak1_ratio}\n",
    "myRatio_df = pd.DataFrame(myRatios)\n",
    "\n",
    "myRatio_df['Genes'] = mergeDf.gene"
   ]
  },
  {
   "cell_type": "markdown",
   "metadata": {},
   "source": [
    "## Sort each value and replace values with rank/total"
   ]
  },
  {
   "cell_type": "code",
   "execution_count": 188,
   "metadata": {},
   "outputs": [
    {
     "name": "stdout",
     "output_type": "stream",
     "text": [
      "DEN\n",
      "4841\n"
     ]
    },
    {
     "name": "stderr",
     "output_type": "stream",
     "text": [
      "/cellar/users/mdow/anaconda2/lib/python2.7/site-packages/ipykernel/__main__.py:11: SettingWithCopyWarning: \n",
      "A value is trying to be set on a copy of a slice from a DataFrame\n",
      "\n",
      "See the caveats in the documentation: http://pandas.pydata.org/pandas-docs/stable/indexing.html#indexing-view-versus-copy\n",
      "/cellar/users/mdow/anaconda2/lib/python2.7/site-packages/ipykernel/__main__.py:16: SettingWithCopyWarning: \n",
      "A value is trying to be set on a copy of a slice from a DataFrame\n",
      "\n",
      "See the caveats in the documentation: http://pandas.pydata.org/pandas-docs/stable/indexing.html#indexing-view-versus-copy\n",
      "/cellar/users/mdow/anaconda2/lib/python2.7/site-packages/ipykernel/__main__.py:17: SettingWithCopyWarning: \n",
      "A value is trying to be set on a copy of a slice from a DataFrame\n",
      "\n",
      "See the caveats in the documentation: http://pandas.pydata.org/pandas-docs/stable/indexing.html#indexing-view-versus-copy\n"
     ]
    },
    {
     "name": "stdout",
     "output_type": "stream",
     "text": [
      "MUP\n",
      "150\n",
      "STAM\n",
      "7267\n",
      "TAK1\n",
      "182\n"
     ]
    }
   ],
   "source": [
    "myMouse=['DEN','MUP','STAM','TAK1']\n",
    "# replace \n",
    "tmp = myRatio_df.copy()\n",
    "numGenes=myRatio_df.shape[0]\n",
    "for m in myMouse:\n",
    "    print m\n",
    "    tmp = tmp.sort_values([m],ascending=False).reset_index(drop=True)\n",
    "    \n",
    "    # For the ones that are not 1 (from ratio of 0+1/0+1)\n",
    "    myCol = tmp.loc[:,m]\n",
    "    myCol[myCol < 1] = 1\n",
    "    \n",
    "    nonZ = myCol[myCol != 1].shape[0]\n",
    "    print nonZ\n",
    "    \n",
    "    myCol[myCol != 1] = [(n+0.0001)/float(numGenes) for n in range(nonZ)]\n",
    "    myCol[myCol == 1] = 1\n",
    "    \n",
    "geneRankP = tmp"
   ]
  },
  {
   "cell_type": "markdown",
   "metadata": {},
   "source": [
    "### Format pVal df"
   ]
  },
  {
   "cell_type": "code",
   "execution_count": 189,
   "metadata": {},
   "outputs": [
    {
     "name": "stderr",
     "output_type": "stream",
     "text": [
      "/cellar/users/mdow/anaconda2/lib/python2.7/site-packages/ipykernel/__main__.py:6: FutureWarning: \n",
      "Passing list-likes to .loc or [] with any missing label will raise\n",
      "KeyError in the future, you can use .reindex() as an alternative.\n",
      "\n",
      "See the documentation here:\n",
      "http://pandas.pydata.org/pandas-docs/stable/indexing.html#deprecate-loc-reindex-listlike\n"
     ]
    }
   ],
   "source": [
    "geneRankP.index = geneRankP.Genes\n",
    "\n",
    "#geneRankP\n",
    "\n",
    "pGenes_lower=[p.lower() for p in pGenes]\n",
    "pGene_df = geneRankP.loc[pGenes_lower,['DEN','STAM','MUP','TAK1']].fillna(1)"
   ]
  },
  {
   "cell_type": "code",
   "execution_count": 190,
   "metadata": {
    "collapsed": true
   },
   "outputs": [],
   "source": [
    "geneRankP.to_pickle('gene_rank_pVal_filtered.pkl')"
   ]
  },
  {
   "cell_type": "markdown",
   "metadata": {},
   "source": [
    "## Get mouse specific significantly mutated genes\n",
    "### Remove the big genes"
   ]
  },
  {
   "cell_type": "code",
   "execution_count": 191,
   "metadata": {},
   "outputs": [
    {
     "data": {
      "text/plain": [
       "((44459, 2), (3756, 2))"
      ]
     },
     "execution_count": 191,
     "metadata": {},
     "output_type": "execute_result"
    }
   ],
   "source": [
    "#removeLs = \n",
    "geneMean = geneSize_nodup.log_size.mean()\n",
    "geneSd = geneSize_nodup.log_size.std()\n",
    "\n",
    "upThres = (geneMean + 1.6*geneSd)\n",
    "downThres = np.floor(geneMean - 2*geneSd)\n",
    "m1 = geneSize_nodup.log_size > upThres\n",
    "m2 = geneSize_nodup.log_size <= downThres\n",
    "\n",
    "geneSize_nodup.shape, geneSize_nodup[(m1|m2)].shape"
   ]
  },
  {
   "cell_type": "code",
   "execution_count": 192,
   "metadata": {},
   "outputs": [
    {
     "data": {
      "text/plain": [
       "16.990270651281847"
      ]
     },
     "execution_count": 192,
     "metadata": {},
     "output_type": "execute_result"
    }
   ],
   "source": [
    "upThres"
   ]
  },
  {
   "cell_type": "code",
   "execution_count": 193,
   "metadata": {
    "collapsed": true
   },
   "outputs": [],
   "source": [
    "removeLs = geneSize_nodup[(m1|m2)].gene\n",
    "\n",
    "removeDf = geneSize_nodup[(m1|m2)]\n",
    "\n",
    "removeDf.to_pickle('mouse_large_genes.pkl')"
   ]
  },
  {
   "cell_type": "markdown",
   "metadata": {},
   "source": [
    "### Remove the genes with only 1 mutations (even with sig pval in MUP and TAK1)"
   ]
  },
  {
   "cell_type": "code",
   "execution_count": 263,
   "metadata": {},
   "outputs": [
    {
     "data": {
      "text/html": [
       "<div>\n",
       "<style scoped>\n",
       "    .dataframe tbody tr th:only-of-type {\n",
       "        vertical-align: middle;\n",
       "    }\n",
       "\n",
       "    .dataframe tbody tr th {\n",
       "        vertical-align: top;\n",
       "    }\n",
       "\n",
       "    .dataframe thead th {\n",
       "        text-align: right;\n",
       "    }\n",
       "</style>\n",
       "<table border=\"1\" class=\"dataframe\">\n",
       "  <thead>\n",
       "    <tr style=\"text-align: right;\">\n",
       "      <th></th>\n",
       "      <th>DEN</th>\n",
       "      <th>MUP</th>\n",
       "      <th>STAM</th>\n",
       "      <th>TAK1</th>\n",
       "      <th>Genes</th>\n",
       "      <th>MUP_msCnt</th>\n",
       "      <th>TAK1_msCnt</th>\n",
       "      <th>STAM_msCnt</th>\n",
       "      <th>DEN_msCnt</th>\n",
       "    </tr>\n",
       "  </thead>\n",
       "  <tbody>\n",
       "    <tr>\n",
       "      <th>0</th>\n",
       "      <td>1.000000</td>\n",
       "      <td>1.0</td>\n",
       "      <td>1.000000</td>\n",
       "      <td>7.090187e-09</td>\n",
       "      <td>spag9</td>\n",
       "      <td>0.0</td>\n",
       "      <td>4.0</td>\n",
       "      <td>2.0</td>\n",
       "      <td>1.0</td>\n",
       "    </tr>\n",
       "    <tr>\n",
       "      <th>1</th>\n",
       "      <td>0.048497</td>\n",
       "      <td>1.0</td>\n",
       "      <td>0.461642</td>\n",
       "      <td>7.090896e-05</td>\n",
       "      <td>slc9a2</td>\n",
       "      <td>0.0</td>\n",
       "      <td>4.0</td>\n",
       "      <td>3.0</td>\n",
       "      <td>2.0</td>\n",
       "    </tr>\n",
       "    <tr>\n",
       "      <th>2</th>\n",
       "      <td>0.009572</td>\n",
       "      <td>1.0</td>\n",
       "      <td>0.510068</td>\n",
       "      <td>1.418108e-04</td>\n",
       "      <td>hydin</td>\n",
       "      <td>0.0</td>\n",
       "      <td>4.0</td>\n",
       "      <td>13.0</td>\n",
       "      <td>13.0</td>\n",
       "    </tr>\n",
       "    <tr>\n",
       "      <th>3</th>\n",
       "      <td>1.000000</td>\n",
       "      <td>1.0</td>\n",
       "      <td>0.153573</td>\n",
       "      <td>2.127127e-04</td>\n",
       "      <td>kdm4d</td>\n",
       "      <td>0.0</td>\n",
       "      <td>4.0</td>\n",
       "      <td>4.0</td>\n",
       "      <td>0.0</td>\n",
       "    </tr>\n",
       "    <tr>\n",
       "      <th>4</th>\n",
       "      <td>1.000000</td>\n",
       "      <td>1.0</td>\n",
       "      <td>0.169952</td>\n",
       "      <td>2.836146e-04</td>\n",
       "      <td>tacc2</td>\n",
       "      <td>0.0</td>\n",
       "      <td>4.0</td>\n",
       "      <td>13.0</td>\n",
       "      <td>0.0</td>\n",
       "    </tr>\n",
       "  </tbody>\n",
       "</table>\n",
       "</div>"
      ],
      "text/plain": [
       "        DEN  MUP      STAM          TAK1   Genes  MUP_msCnt  TAK1_msCnt  \\\n",
       "0  1.000000  1.0  1.000000  7.090187e-09   spag9        0.0         4.0   \n",
       "1  0.048497  1.0  0.461642  7.090896e-05  slc9a2        0.0         4.0   \n",
       "2  0.009572  1.0  0.510068  1.418108e-04   hydin        0.0         4.0   \n",
       "3  1.000000  1.0  0.153573  2.127127e-04   kdm4d        0.0         4.0   \n",
       "4  1.000000  1.0  0.169952  2.836146e-04   tacc2        0.0         4.0   \n",
       "\n",
       "   STAM_msCnt  DEN_msCnt  \n",
       "0         2.0        1.0  \n",
       "1         3.0        2.0  \n",
       "2        13.0       13.0  \n",
       "3         4.0        0.0  \n",
       "4        13.0        0.0  "
      ]
     },
     "execution_count": 263,
     "metadata": {},
     "output_type": "execute_result"
    }
   ],
   "source": [
    "test = mergeDf[['MUP','TAK1','STAM','DEN','gene']]\n",
    "test.columns = ['MUP_msCnt','TAK1_msCnt','STAM_msCnt','DEN_msCnt','Genes']\n",
    "\n",
    "merged_pMsCnt = pd.merge(geneRankP,test)#.shape, \n",
    "\n",
    "merged_pMsCnt.head()"
   ]
  },
  {
   "cell_type": "code",
   "execution_count": 266,
   "metadata": {},
   "outputs": [],
   "source": [
    "m1 = merged_pMsCnt.MUP <= 0.05\n",
    "m2 = merged_pMsCnt.TAK1 <= 0.05\n",
    "m3 = merged_pMsCnt.MUP_msCnt < 3\n",
    "m4 = merged_pMsCnt.TAK1_msCnt < 3\n",
    "\n",
    "m5 = merged_pMsCnt.STAM <= 0.05\n",
    "m6 = merged_pMsCnt.STAM_msCnt < 6\n",
    "\n",
    "m7 = merged_pMsCnt.DEN <= 0.05\n",
    "m8 = merged_pMsCnt.DEN_msCnt < 6\n",
    "\n",
    "#falseLs = merged_pMsCnt.Genes[(m1&m3)|(m2&m4)|(m5&m6)]\n",
    "\n",
    "falseDf = merged_pMsCnt[(m1&m3)|(m2&m4)|(m5&m6)|(m7&m8)]\n",
    "\n",
    "falseDf.to_pickle('mouse_lowGenes.pkl')"
   ]
  },
  {
   "cell_type": "code",
   "execution_count": null,
   "metadata": {
    "collapsed": true
   },
   "outputs": [],
   "source": []
  },
  {
   "cell_type": "code",
   "execution_count": 267,
   "metadata": {},
   "outputs": [
    {
     "data": {
      "text/plain": [
       "901"
      ]
     },
     "execution_count": 267,
     "metadata": {},
     "output_type": "execute_result"
    }
   ],
   "source": [
    "len(falseLs)"
   ]
  },
  {
   "cell_type": "code",
   "execution_count": null,
   "metadata": {
    "collapsed": true
   },
   "outputs": [],
   "source": []
  },
  {
   "cell_type": "code",
   "execution_count": null,
   "metadata": {
    "collapsed": true
   },
   "outputs": [],
   "source": []
  },
  {
   "cell_type": "code",
   "execution_count": 252,
   "metadata": {},
   "outputs": [
    {
     "name": "stdout",
     "output_type": "stream",
     "text": [
      "DEN\n",
      "False    11273\n",
      "True       480\n",
      "Name: DEN, dtype: int64\n",
      "MUP\n",
      "False    11752\n",
      "True         1\n",
      "Name: MUP, dtype: int64\n",
      "STAM\n",
      "False    11680\n",
      "True        73\n",
      "Name: STAM, dtype: int64\n",
      "TAK1\n",
      "False    11746\n",
      "True         7\n",
      "Name: TAK1, dtype: int64\n"
     ]
    }
   ],
   "source": [
    "# If interested in the sig genes \n",
    "m1 = ~geneRankP.Genes.isin(removeLs)\n",
    "m2 = ~geneRankP.Genes.isin(falseLs)\n",
    "geneSmall = geneRankP[(m1&m2)]\n",
    "sigLs = get_sigGenes(geneSmall, 0.05, 20)\n",
    "#myGenes = pd.Series(sigLs).unique()"
   ]
  },
  {
   "cell_type": "code",
   "execution_count": null,
   "metadata": {
    "collapsed": true
   },
   "outputs": [],
   "source": []
  },
  {
   "cell_type": "code",
   "execution_count": 253,
   "metadata": {},
   "outputs": [
    {
     "data": {
      "text/plain": [
       "<matplotlib.axes._subplots.AxesSubplot at 0x7f22fcc60d50>"
      ]
     },
     "execution_count": 253,
     "metadata": {},
     "output_type": "execute_result"
    },
    {
     "data": {
      "image/png": "[encoded data removed]",
      "text/plain": [
       "<matplotlib.figure.Figure at 0x7f23022d5090>"
      ]
     },
     "metadata": {},
     "output_type": "display_data"
    }
   ],
   "source": [
    "geneSize_nodup.log_size[geneSize_nodup.gene.isin(sigLs)].hist()"
   ]
  },
  {
   "cell_type": "code",
   "execution_count": 199,
   "metadata": {},
   "outputs": [
    {
     "data": {
      "text/plain": [
       "<matplotlib.axes._subplots.AxesSubplot at 0x7f2317ec8110>"
      ]
     },
     "execution_count": 199,
     "metadata": {},
     "output_type": "execute_result"
    },
    {
     "data": {
      "image/png": "[encoded data removed]",
      "text/plain": [
       "<matplotlib.figure.Figure at 0x7f2317e00690>"
      ]
     },
     "metadata": {},
     "output_type": "display_data"
    }
   ],
   "source": [
    "geneSize_nodup.log_size.hist()"
   ]
  },
  {
   "cell_type": "code",
   "execution_count": 259,
   "metadata": {},
   "outputs": [
    {
     "data": {
      "text/html": [
       "<div>\n",
       "<style scoped>\n",
       "    .dataframe tbody tr th:only-of-type {\n",
       "        vertical-align: middle;\n",
       "    }\n",
       "\n",
       "    .dataframe tbody tr th {\n",
       "        vertical-align: top;\n",
       "    }\n",
       "\n",
       "    .dataframe thead th {\n",
       "        text-align: right;\n",
       "    }\n",
       "</style>\n",
       "<table border=\"1\" class=\"dataframe\">\n",
       "  <thead>\n",
       "    <tr style=\"text-align: right;\">\n",
       "      <th></th>\n",
       "      <th>gene</th>\n",
       "      <th>log_size</th>\n",
       "    </tr>\n",
       "  </thead>\n",
       "  <tbody>\n",
       "    <tr>\n",
       "      <th>32227</th>\n",
       "      <td>muc5b</td>\n",
       "      <td>15.056553</td>\n",
       "    </tr>\n",
       "  </tbody>\n",
       "</table>\n",
       "</div>"
      ],
      "text/plain": [
       "        gene   log_size\n",
       "32227  muc5b  15.056553"
      ]
     },
     "execution_count": 259,
     "metadata": {},
     "output_type": "execute_result"
    }
   ],
   "source": [
    "geneSize_nodup[geneSize_nodup.gene.str.contains('muc5b')]"
   ]
  },
  {
   "cell_type": "code",
   "execution_count": 201,
   "metadata": {},
   "outputs": [
    {
     "data": {
      "text/plain": [
       "['braf',\n",
       " 'muc5b',\n",
       " 'ufsp2',\n",
       " 'rp1',\n",
       " 'esr2',\n",
       " 'stab1',\n",
       " 'sh2b3',\n",
       " 'nsd1',\n",
       " 'fcgbp',\n",
       " 'brca2',\n",
       " 'myh8',\n",
       " 'itgb4',\n",
       " 'muc5ac',\n",
       " 'ubr5',\n",
       " 'loxl1',\n",
       " 'taf1c',\n",
       " 'cep152',\n",
       " 'fgfr1',\n",
       " 'polr1a',\n",
       " 'ano5',\n",
       " 'hist1h4k',\n",
       " 'khnyn',\n",
       " 'csde1',\n",
       " 'lvrn',\n",
       " 'gigyf2',\n",
       " 'itpr3',\n",
       " 'treml2',\n",
       " 'klk6',\n",
       " 'dnah2',\n",
       " 'tarbp2',\n",
       " 'pofut1',\n",
       " 'lrrk1',\n",
       " 'zmynd15',\n",
       " 'troap',\n",
       " 'ahnak',\n",
       " 'heatr5a',\n",
       " 'lrrc8e',\n",
       " 'frem3',\n",
       " 'fgg',\n",
       " 'srcap',\n",
       " 'fbxo41',\n",
       " 'recql4',\n",
       " 'ssfa2',\n",
       " 'nutm1',\n",
       " 'mbip',\n",
       " 'fasn',\n",
       " 'c2orf71',\n",
       " 'nol8',\n",
       " 'znf205',\n",
       " 'pilra',\n",
       " 'abl1',\n",
       " 'n4bp2',\n",
       " 'caskin1',\n",
       " 'atp11b',\n",
       " 'phf1',\n",
       " 'casp1',\n",
       " 'smarcal1',\n",
       " 'rasip1',\n",
       " 'aoc1',\n",
       " 'bcl9l',\n",
       " 'spag9',\n",
       " 'slc9a2',\n",
       " 'kdm4d',\n",
       " 'wdr11',\n",
       " 'krt1',\n",
       " 'ehhadh',\n",
       " 'eva1a',\n",
       " 'ncf4',\n",
       " 'eef1d',\n",
       " 'myc',\n",
       " 'trappc12',\n",
       " 'ubr1',\n",
       " 'pcyox1l',\n",
       " 'nudt12',\n",
       " 'fam160b2',\n",
       " 'hapln4',\n",
       " 'tbc1d15',\n",
       " 'dnhd1',\n",
       " 'usp49',\n",
       " 'tph2']"
      ]
     },
     "execution_count": 201,
     "metadata": {},
     "output_type": "execute_result"
    }
   ],
   "source": [
    "sigLs"
   ]
  },
  {
   "cell_type": "code",
   "execution_count": null,
   "metadata": {
    "collapsed": true
   },
   "outputs": [],
   "source": []
  },
  {
   "cell_type": "code",
   "execution_count": null,
   "metadata": {
    "collapsed": true
   },
   "outputs": [],
   "source": []
  },
  {
   "cell_type": "code",
   "execution_count": null,
   "metadata": {
    "collapsed": true
   },
   "outputs": [],
   "source": []
  },
  {
   "cell_type": "markdown",
   "metadata": {},
   "source": [
    "## scratch"
   ]
  },
  {
   "cell_type": "code",
   "execution_count": null,
   "metadata": {
    "collapsed": true
   },
   "outputs": [],
   "source": []
  },
  {
   "cell_type": "code",
   "execution_count": null,
   "metadata": {
    "collapsed": true
   },
   "outputs": [],
   "source": [
    "\n",
    "\n",
    "mSub = df_sub[['MODEL','SAMPLE','SYMBOL','Consequence']]\n",
    "mSub = mSub.drop_duplicates().dropna()"
   ]
  },
  {
   "cell_type": "code",
   "execution_count": null,
   "metadata": {
    "collapsed": true
   },
   "outputs": [],
   "source": [
    "synDf = mSub[mSub.Consequence == 'synonymous_variant']\n",
    "synCnt = synDf.groupby('SYMBOL').MODEL.value_counts().reset_index(name='SynCnt')\n",
    "\n",
    "synCnt_unstack = synCnt.pivot(index='SYMBOL',columns='MODEL',values='SynCnt').fillna(0)"
   ]
  }
 ],
 "metadata": {
  "anaconda-cloud": {},
  "kernelspec": {
   "display_name": "Python [conda root]",
   "language": "python",
   "name": "conda-root-py"
  },
  "language_info": {
   "codemirror_mode": {
    "name": "ipython",
    "version": 2
   },
   "file_extension": ".py",
   "mimetype": "text/x-python",
   "name": "python",
   "nbconvert_exporter": "python",
   "pygments_lexer": "ipython2",
   "version": "2.7.12"
  }
 },
 "nbformat": 4,
 "nbformat_minor": 1
}
